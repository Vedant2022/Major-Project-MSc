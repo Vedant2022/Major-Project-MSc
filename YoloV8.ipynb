{
 "cells": [
  {
   "cell_type": "markdown",
   "id": "3d722cae",
   "metadata": {},
   "source": [
    "# Model 1 (YOLO v8)"
   ]
  },
  {
   "cell_type": "code",
   "execution_count": 1,
   "id": "dfee44d8",
   "metadata": {},
   "outputs": [],
   "source": [
    "from ultralytics import YOLO"
   ]
  },
  {
   "cell_type": "code",
   "execution_count": 2,
   "id": "28690f76",
   "metadata": {},
   "outputs": [],
   "source": [
    "model = YOLO('yolov8n.pt')"
   ]
  },
  {
   "cell_type": "code",
   "execution_count": 3,
   "id": "d9d5572e",
   "metadata": {},
   "outputs": [
    {
     "name": "stdout",
     "output_type": "stream",
     "text": [
      "Ultralytics 8.3.161  Python-3.12.4 torch-2.7.1+cu128 CUDA:0 (NVIDIA GeForce RTX 3050 6GB Laptop GPU, 6144MiB)\n",
      "\u001b[34m\u001b[1mengine\\trainer: \u001b[0magnostic_nms=False, amp=True, augment=False, auto_augment=randaugment, batch=16, bgr=0.0, box=7.5, cache=False, cfg=None, classes=None, close_mosaic=10, cls=0.5, conf=None, copy_paste=0.0, copy_paste_mode=flip, cos_lr=False, cutmix=0.0, data=C:/NTU_NOW_Assignments/COMP40311_Major_Project/Implementation/Concealed_Weapon_Detection_Dataset/data.yaml, degrees=0.0, deterministic=True, device=None, dfl=1.5, dnn=False, dropout=0.0, dynamic=False, embed=None, epochs=10, erasing=0.4, exist_ok=False, fliplr=0.5, flipud=0.0, format=torchscript, fraction=1.0, freeze=None, half=False, hsv_h=0.015, hsv_s=0.7, hsv_v=0.4, imgsz=640, int8=False, iou=0.7, keras=False, kobj=1.0, line_width=None, lr0=0.01, lrf=0.01, mask_ratio=4, max_det=300, mixup=0.0, mode=train, model=yolov8n.pt, momentum=0.937, mosaic=1.0, multi_scale=False, name=train7, nbs=64, nms=False, opset=None, optimize=False, optimizer=auto, overlap_mask=True, patience=100, perspective=0.0, plots=True, pose=12.0, pretrained=True, profile=False, project=None, rect=False, resume=False, retina_masks=False, save=True, save_conf=False, save_crop=False, save_dir=runs\\detect\\train7, save_frames=False, save_json=False, save_period=-1, save_txt=False, scale=0.5, seed=0, shear=0.0, show=False, show_boxes=True, show_conf=True, show_labels=True, simplify=True, single_cls=False, source=None, split=val, stream_buffer=False, task=detect, time=None, tracker=botsort.yaml, translate=0.1, val=True, verbose=True, vid_stride=1, visualize=False, warmup_bias_lr=0.1, warmup_epochs=3.0, warmup_momentum=0.8, weight_decay=0.0005, workers=8, workspace=None\n",
      "Overriding model.yaml nc=80 with nc=2\n",
      "\n",
      "                   from  n    params  module                                       arguments                     \n",
      "  0                  -1  1       464  ultralytics.nn.modules.conv.Conv             [3, 16, 3, 2]                 \n",
      "  1                  -1  1      4672  ultralytics.nn.modules.conv.Conv             [16, 32, 3, 2]                \n",
      "  2                  -1  1      7360  ultralytics.nn.modules.block.C2f             [32, 32, 1, True]             \n",
      "  3                  -1  1     18560  ultralytics.nn.modules.conv.Conv             [32, 64, 3, 2]                \n",
      "  4                  -1  2     49664  ultralytics.nn.modules.block.C2f             [64, 64, 2, True]             \n",
      "  5                  -1  1     73984  ultralytics.nn.modules.conv.Conv             [64, 128, 3, 2]               \n",
      "  6                  -1  2    197632  ultralytics.nn.modules.block.C2f             [128, 128, 2, True]           \n",
      "  7                  -1  1    295424  ultralytics.nn.modules.conv.Conv             [128, 256, 3, 2]              \n",
      "  8                  -1  1    460288  ultralytics.nn.modules.block.C2f             [256, 256, 1, True]           \n",
      "  9                  -1  1    164608  ultralytics.nn.modules.block.SPPF            [256, 256, 5]                 \n",
      " 10                  -1  1         0  torch.nn.modules.upsampling.Upsample         [None, 2, 'nearest']          \n",
      " 11             [-1, 6]  1         0  ultralytics.nn.modules.conv.Concat           [1]                           \n",
      " 12                  -1  1    148224  ultralytics.nn.modules.block.C2f             [384, 128, 1]                 \n",
      " 13                  -1  1         0  torch.nn.modules.upsampling.Upsample         [None, 2, 'nearest']          \n",
      " 14             [-1, 4]  1         0  ultralytics.nn.modules.conv.Concat           [1]                           \n",
      " 15                  -1  1     37248  ultralytics.nn.modules.block.C2f             [192, 64, 1]                  \n",
      " 16                  -1  1     36992  ultralytics.nn.modules.conv.Conv             [64, 64, 3, 2]                \n",
      " 17            [-1, 12]  1         0  ultralytics.nn.modules.conv.Concat           [1]                           \n",
      " 18                  -1  1    123648  ultralytics.nn.modules.block.C2f             [192, 128, 1]                 \n",
      " 19                  -1  1    147712  ultralytics.nn.modules.conv.Conv             [128, 128, 3, 2]              \n",
      " 20             [-1, 9]  1         0  ultralytics.nn.modules.conv.Concat           [1]                           \n",
      " 21                  -1  1    493056  ultralytics.nn.modules.block.C2f             [384, 256, 1]                 \n",
      " 22        [15, 18, 21]  1    751702  ultralytics.nn.modules.head.Detect           [2, [64, 128, 256]]           \n",
      "Model summary: 129 layers, 3,011,238 parameters, 3,011,222 gradients, 8.2 GFLOPs\n",
      "\n",
      "Transferred 319/355 items from pretrained weights\n",
      "Freezing layer 'model.22.dfl.conv.weight'\n",
      "\u001b[34m\u001b[1mAMP: \u001b[0mrunning Automatic Mixed Precision (AMP) checks...\n",
      "\u001b[34m\u001b[1mAMP: \u001b[0mchecks passed \n",
      "\u001b[34m\u001b[1mtrain: \u001b[0mFast image access  (ping: 0.40.2 ms, read: 21.37.3 MB/s, size: 24.9 KB)\n"
     ]
    },
    {
     "name": "stderr",
     "output_type": "stream",
     "text": [
      "\u001b[34m\u001b[1mtrain: \u001b[0mScanning C:\\NTU_NOW_Assignments\\COMP40311_Major_Project\\Implementation\\Concealed_Weapon_Detection_Dataset\\train\\labels... 1935 images, 279 backgrounds, 0 corrupt: 100%|██████████| 1935/1935 [00:01<00:00, 1364.74it/s]\n"
     ]
    },
    {
     "name": "stdout",
     "output_type": "stream",
     "text": [
      "\u001b[34m\u001b[1mtrain: \u001b[0mNew cache created: C:\\NTU_NOW_Assignments\\COMP40311_Major_Project\\Implementation\\Concealed_Weapon_Detection_Dataset\\train\\labels.cache\n",
      "\u001b[34m\u001b[1malbumentations: \u001b[0mBlur(p=0.01, blur_limit=(3, 7)), MedianBlur(p=0.01, blur_limit=(3, 7)), ToGray(p=0.01, num_output_channels=3, method='weighted_average'), CLAHE(p=0.01, clip_limit=(1.0, 4.0), tile_grid_size=(8, 8))\n",
      "\u001b[34m\u001b[1mval: \u001b[0mFast image access  (ping: 0.10.0 ms, read: 40.019.1 MB/s, size: 25.1 KB)\n"
     ]
    },
    {
     "name": "stderr",
     "output_type": "stream",
     "text": [
      "\u001b[34m\u001b[1mval: \u001b[0mScanning C:\\NTU_NOW_Assignments\\COMP40311_Major_Project\\Implementation\\Concealed_Weapon_Detection_Dataset\\valid\\labels... 185 images, 29 backgrounds, 0 corrupt: 100%|██████████| 185/185 [00:00<00:00, 854.51it/s]"
     ]
    },
    {
     "name": "stdout",
     "output_type": "stream",
     "text": [
      "\u001b[34m\u001b[1mval: \u001b[0mNew cache created: C:\\NTU_NOW_Assignments\\COMP40311_Major_Project\\Implementation\\Concealed_Weapon_Detection_Dataset\\valid\\labels.cache\n"
     ]
    },
    {
     "name": "stderr",
     "output_type": "stream",
     "text": [
      "\n"
     ]
    },
    {
     "name": "stdout",
     "output_type": "stream",
     "text": [
      "Plotting labels to runs\\detect\\train7\\labels.jpg... \n",
      "\u001b[34m\u001b[1moptimizer:\u001b[0m 'optimizer=auto' found, ignoring 'lr0=0.01' and 'momentum=0.937' and determining best 'optimizer', 'lr0' and 'momentum' automatically... \n",
      "\u001b[34m\u001b[1moptimizer:\u001b[0m AdamW(lr=0.001667, momentum=0.9) with parameter groups 57 weight(decay=0.0), 64 weight(decay=0.0005), 63 bias(decay=0.0)\n",
      "Image sizes 640 train, 640 val\n",
      "Using 8 dataloader workers\n",
      "Logging results to \u001b[1mruns\\detect\\train7\u001b[0m\n",
      "Starting training for 10 epochs...\n",
      "Closing dataloader mosaic\n",
      "\u001b[34m\u001b[1malbumentations: \u001b[0mBlur(p=0.01, blur_limit=(3, 7)), MedianBlur(p=0.01, blur_limit=(3, 7)), ToGray(p=0.01, num_output_channels=3, method='weighted_average'), CLAHE(p=0.01, clip_limit=(1.0, 4.0), tile_grid_size=(8, 8))\n",
      "\n",
      "      Epoch    GPU_mem   box_loss   cls_loss   dfl_loss  Instances       Size\n"
     ]
    },
    {
     "name": "stderr",
     "output_type": "stream",
     "text": [
      "       1/10      1.92G      1.606      3.515      1.635         13        640: 100%|██████████| 121/121 [00:28<00:00,  4.19it/s]\n",
      "                 Class     Images  Instances      Box(P          R      mAP50  mAP50-95): 100%|██████████| 6/6 [00:01<00:00,  3.16it/s]"
     ]
    },
    {
     "name": "stdout",
     "output_type": "stream",
     "text": [
      "                   all        185        156      0.902      0.764      0.882      0.515\n"
     ]
    },
    {
     "name": "stderr",
     "output_type": "stream",
     "text": [
      "\n"
     ]
    },
    {
     "name": "stdout",
     "output_type": "stream",
     "text": [
      "\n",
      "      Epoch    GPU_mem   box_loss   cls_loss   dfl_loss  Instances       Size\n"
     ]
    },
    {
     "name": "stderr",
     "output_type": "stream",
     "text": [
      "       2/10      2.32G      1.491      2.069      1.522         14        640: 100%|██████████| 121/121 [00:28<00:00,  4.23it/s]\n",
      "                 Class     Images  Instances      Box(P          R      mAP50  mAP50-95): 100%|██████████| 6/6 [00:02<00:00,  2.09it/s]"
     ]
    },
    {
     "name": "stdout",
     "output_type": "stream",
     "text": [
      "                   all        185        156      0.931      0.865      0.913      0.449\n"
     ]
    },
    {
     "name": "stderr",
     "output_type": "stream",
     "text": [
      "\n"
     ]
    },
    {
     "name": "stdout",
     "output_type": "stream",
     "text": [
      "\n",
      "      Epoch    GPU_mem   box_loss   cls_loss   dfl_loss  Instances       Size\n"
     ]
    },
    {
     "name": "stderr",
     "output_type": "stream",
     "text": [
      "       3/10      2.34G      1.457      1.485      1.543         15        640: 100%|██████████| 121/121 [00:35<00:00,  3.42it/s]\n",
      "                 Class     Images  Instances      Box(P          R      mAP50  mAP50-95): 100%|██████████| 6/6 [00:03<00:00,  1.98it/s]"
     ]
    },
    {
     "name": "stdout",
     "output_type": "stream",
     "text": [
      "                   all        185        156      0.876      0.817      0.896      0.485\n"
     ]
    },
    {
     "name": "stderr",
     "output_type": "stream",
     "text": [
      "\n"
     ]
    },
    {
     "name": "stdout",
     "output_type": "stream",
     "text": [
      "\n",
      "      Epoch    GPU_mem   box_loss   cls_loss   dfl_loss  Instances       Size\n"
     ]
    },
    {
     "name": "stderr",
     "output_type": "stream",
     "text": [
      "       4/10      2.36G      1.373      1.141      1.488         12        640: 100%|██████████| 121/121 [00:33<00:00,  3.65it/s]\n",
      "                 Class     Images  Instances      Box(P          R      mAP50  mAP50-95): 100%|██████████| 6/6 [00:02<00:00,  2.10it/s]"
     ]
    },
    {
     "name": "stdout",
     "output_type": "stream",
     "text": [
      "                   all        185        156      0.968      0.878      0.948      0.554\n"
     ]
    },
    {
     "name": "stderr",
     "output_type": "stream",
     "text": [
      "\n"
     ]
    },
    {
     "name": "stdout",
     "output_type": "stream",
     "text": [
      "\n",
      "      Epoch    GPU_mem   box_loss   cls_loss   dfl_loss  Instances       Size\n"
     ]
    },
    {
     "name": "stderr",
     "output_type": "stream",
     "text": [
      "       5/10      2.37G      1.304     0.9229      1.442         13        640: 100%|██████████| 121/121 [00:29<00:00,  4.16it/s]\n",
      "                 Class     Images  Instances      Box(P          R      mAP50  mAP50-95): 100%|██████████| 6/6 [00:01<00:00,  4.41it/s]"
     ]
    },
    {
     "name": "stdout",
     "output_type": "stream",
     "text": [
      "                   all        185        156      0.944      0.966      0.978      0.564\n"
     ]
    },
    {
     "name": "stderr",
     "output_type": "stream",
     "text": [
      "\n"
     ]
    },
    {
     "name": "stdout",
     "output_type": "stream",
     "text": [
      "\n",
      "      Epoch    GPU_mem   box_loss   cls_loss   dfl_loss  Instances       Size\n"
     ]
    },
    {
     "name": "stderr",
     "output_type": "stream",
     "text": [
      "       6/10      2.39G      1.263     0.8067      1.415         13        640: 100%|██████████| 121/121 [00:24<00:00,  5.04it/s]\n",
      "                 Class     Images  Instances      Box(P          R      mAP50  mAP50-95): 100%|██████████| 6/6 [00:01<00:00,  4.45it/s]"
     ]
    },
    {
     "name": "stdout",
     "output_type": "stream",
     "text": [
      "                   all        185        156      0.967      0.949      0.986      0.586\n"
     ]
    },
    {
     "name": "stderr",
     "output_type": "stream",
     "text": [
      "\n"
     ]
    },
    {
     "name": "stdout",
     "output_type": "stream",
     "text": [
      "\n",
      "      Epoch    GPU_mem   box_loss   cls_loss   dfl_loss  Instances       Size\n"
     ]
    },
    {
     "name": "stderr",
     "output_type": "stream",
     "text": [
      "       7/10      2.41G      1.187     0.7114      1.357         13        640: 100%|██████████| 121/121 [00:24<00:00,  4.90it/s]\n",
      "                 Class     Images  Instances      Box(P          R      mAP50  mAP50-95): 100%|██████████| 6/6 [00:01<00:00,  4.57it/s]"
     ]
    },
    {
     "name": "stdout",
     "output_type": "stream",
     "text": [
      "                   all        185        156      0.892      0.901      0.942      0.598\n"
     ]
    },
    {
     "name": "stderr",
     "output_type": "stream",
     "text": [
      "\n"
     ]
    },
    {
     "name": "stdout",
     "output_type": "stream",
     "text": [
      "\n",
      "      Epoch    GPU_mem   box_loss   cls_loss   dfl_loss  Instances       Size\n"
     ]
    },
    {
     "name": "stderr",
     "output_type": "stream",
     "text": [
      "       8/10      2.42G      1.122     0.6509       1.32         13        640: 100%|██████████| 121/121 [00:23<00:00,  5.05it/s]\n",
      "                 Class     Images  Instances      Box(P          R      mAP50  mAP50-95): 100%|██████████| 6/6 [00:01<00:00,  4.65it/s]"
     ]
    },
    {
     "name": "stdout",
     "output_type": "stream",
     "text": [
      "                   all        185        156      0.967      0.968      0.979      0.599\n"
     ]
    },
    {
     "name": "stderr",
     "output_type": "stream",
     "text": [
      "\n"
     ]
    },
    {
     "name": "stdout",
     "output_type": "stream",
     "text": [
      "\n",
      "      Epoch    GPU_mem   box_loss   cls_loss   dfl_loss  Instances       Size\n"
     ]
    },
    {
     "name": "stderr",
     "output_type": "stream",
     "text": [
      "       9/10      2.44G      1.074     0.5925      1.284         14        640: 100%|██████████| 121/121 [00:23<00:00,  5.07it/s]\n",
      "                 Class     Images  Instances      Box(P          R      mAP50  mAP50-95): 100%|██████████| 6/6 [00:01<00:00,  4.20it/s]"
     ]
    },
    {
     "name": "stdout",
     "output_type": "stream",
     "text": [
      "                   all        185        156      0.932      0.987      0.989      0.643\n"
     ]
    },
    {
     "name": "stderr",
     "output_type": "stream",
     "text": [
      "\n"
     ]
    },
    {
     "name": "stdout",
     "output_type": "stream",
     "text": [
      "\n",
      "      Epoch    GPU_mem   box_loss   cls_loss   dfl_loss  Instances       Size\n"
     ]
    },
    {
     "name": "stderr",
     "output_type": "stream",
     "text": [
      "      10/10      2.46G      1.008     0.5475      1.248         13        640: 100%|██████████| 121/121 [00:24<00:00,  4.99it/s]\n",
      "                 Class     Images  Instances      Box(P          R      mAP50  mAP50-95): 100%|██████████| 6/6 [00:01<00:00,  4.52it/s]"
     ]
    },
    {
     "name": "stdout",
     "output_type": "stream",
     "text": [
      "                   all        185        156      0.944       0.98      0.989      0.635\n"
     ]
    },
    {
     "name": "stderr",
     "output_type": "stream",
     "text": [
      "\n"
     ]
    },
    {
     "name": "stdout",
     "output_type": "stream",
     "text": [
      "\n",
      "10 epochs completed in 0.095 hours.\n",
      "Optimizer stripped from runs\\detect\\train7\\weights\\last.pt, 6.2MB\n",
      "Optimizer stripped from runs\\detect\\train7\\weights\\best.pt, 6.2MB\n",
      "\n",
      "Validating runs\\detect\\train7\\weights\\best.pt...\n",
      "Ultralytics 8.3.161  Python-3.12.4 torch-2.7.1+cu128 CUDA:0 (NVIDIA GeForce RTX 3050 6GB Laptop GPU, 6144MiB)\n",
      "Model summary (fused): 72 layers, 3,006,038 parameters, 0 gradients, 8.1 GFLOPs\n"
     ]
    },
    {
     "name": "stderr",
     "output_type": "stream",
     "text": [
      "                 Class     Images  Instances      Box(P          R      mAP50  mAP50-95): 100%|██████████| 6/6 [00:02<00:00,  2.57it/s]\n"
     ]
    },
    {
     "name": "stdout",
     "output_type": "stream",
     "text": [
      "                   all        185        156      0.932      0.987      0.989      0.642\n",
      "                Weapon        156        156      0.932      0.987      0.989      0.642\n",
      "Speed: 0.9ms preprocess, 2.7ms inference, 0.0ms loss, 3.1ms postprocess per image\n",
      "Results saved to \u001b[1mruns\\detect\\train7\u001b[0m\n"
     ]
    },
    {
     "data": {
      "text/plain": [
       "ultralytics.utils.metrics.DetMetrics object with attributes:\n",
       "\n",
       "ap_class_index: array([0])\n",
       "box: ultralytics.utils.metrics.Metric object\n",
       "confusion_matrix: <ultralytics.utils.metrics.ConfusionMatrix object at 0x00000223466B2330>\n",
       "curves: ['Precision-Recall(B)', 'F1-Confidence(B)', 'Precision-Confidence(B)', 'Recall-Confidence(B)']\n",
       "curves_results: [[array([          0,    0.001001,    0.002002,    0.003003,    0.004004,    0.005005,    0.006006,    0.007007,    0.008008,    0.009009,     0.01001,    0.011011,    0.012012,    0.013013,    0.014014,    0.015015,    0.016016,    0.017017,    0.018018,    0.019019,     0.02002,    0.021021,    0.022022,    0.023023,\n",
       "          0.024024,    0.025025,    0.026026,    0.027027,    0.028028,    0.029029,     0.03003,    0.031031,    0.032032,    0.033033,    0.034034,    0.035035,    0.036036,    0.037037,    0.038038,    0.039039,     0.04004,    0.041041,    0.042042,    0.043043,    0.044044,    0.045045,    0.046046,    0.047047,\n",
       "          0.048048,    0.049049,     0.05005,    0.051051,    0.052052,    0.053053,    0.054054,    0.055055,    0.056056,    0.057057,    0.058058,    0.059059,     0.06006,    0.061061,    0.062062,    0.063063,    0.064064,    0.065065,    0.066066,    0.067067,    0.068068,    0.069069,     0.07007,    0.071071,\n",
       "          0.072072,    0.073073,    0.074074,    0.075075,    0.076076,    0.077077,    0.078078,    0.079079,     0.08008,    0.081081,    0.082082,    0.083083,    0.084084,    0.085085,    0.086086,    0.087087,    0.088088,    0.089089,     0.09009,    0.091091,    0.092092,    0.093093,    0.094094,    0.095095,\n",
       "          0.096096,    0.097097,    0.098098,    0.099099,      0.1001,      0.1011,      0.1021,      0.1031,      0.1041,     0.10511,     0.10611,     0.10711,     0.10811,     0.10911,     0.11011,     0.11111,     0.11211,     0.11311,     0.11411,     0.11512,     0.11612,     0.11712,     0.11812,     0.11912,\n",
       "           0.12012,     0.12112,     0.12212,     0.12312,     0.12412,     0.12513,     0.12613,     0.12713,     0.12813,     0.12913,     0.13013,     0.13113,     0.13213,     0.13313,     0.13413,     0.13514,     0.13614,     0.13714,     0.13814,     0.13914,     0.14014,     0.14114,     0.14214,     0.14314,\n",
       "           0.14414,     0.14515,     0.14615,     0.14715,     0.14815,     0.14915,     0.15015,     0.15115,     0.15215,     0.15315,     0.15415,     0.15516,     0.15616,     0.15716,     0.15816,     0.15916,     0.16016,     0.16116,     0.16216,     0.16316,     0.16416,     0.16517,     0.16617,     0.16717,\n",
       "           0.16817,     0.16917,     0.17017,     0.17117,     0.17217,     0.17317,     0.17417,     0.17518,     0.17618,     0.17718,     0.17818,     0.17918,     0.18018,     0.18118,     0.18218,     0.18318,     0.18418,     0.18519,     0.18619,     0.18719,     0.18819,     0.18919,     0.19019,     0.19119,\n",
       "           0.19219,     0.19319,     0.19419,      0.1952,      0.1962,      0.1972,      0.1982,      0.1992,      0.2002,      0.2012,      0.2022,      0.2032,      0.2042,     0.20521,     0.20621,     0.20721,     0.20821,     0.20921,     0.21021,     0.21121,     0.21221,     0.21321,     0.21421,     0.21522,\n",
       "           0.21622,     0.21722,     0.21822,     0.21922,     0.22022,     0.22122,     0.22222,     0.22322,     0.22422,     0.22523,     0.22623,     0.22723,     0.22823,     0.22923,     0.23023,     0.23123,     0.23223,     0.23323,     0.23423,     0.23524,     0.23624,     0.23724,     0.23824,     0.23924,\n",
       "           0.24024,     0.24124,     0.24224,     0.24324,     0.24424,     0.24525,     0.24625,     0.24725,     0.24825,     0.24925,     0.25025,     0.25125,     0.25225,     0.25325,     0.25425,     0.25526,     0.25626,     0.25726,     0.25826,     0.25926,     0.26026,     0.26126,     0.26226,     0.26326,\n",
       "           0.26426,     0.26527,     0.26627,     0.26727,     0.26827,     0.26927,     0.27027,     0.27127,     0.27227,     0.27327,     0.27427,     0.27528,     0.27628,     0.27728,     0.27828,     0.27928,     0.28028,     0.28128,     0.28228,     0.28328,     0.28428,     0.28529,     0.28629,     0.28729,\n",
       "           0.28829,     0.28929,     0.29029,     0.29129,     0.29229,     0.29329,     0.29429,      0.2953,      0.2963,      0.2973,      0.2983,      0.2993,      0.3003,      0.3013,      0.3023,      0.3033,      0.3043,     0.30531,     0.30631,     0.30731,     0.30831,     0.30931,     0.31031,     0.31131,\n",
       "           0.31231,     0.31331,     0.31431,     0.31532,     0.31632,     0.31732,     0.31832,     0.31932,     0.32032,     0.32132,     0.32232,     0.32332,     0.32432,     0.32533,     0.32633,     0.32733,     0.32833,     0.32933,     0.33033,     0.33133,     0.33233,     0.33333,     0.33433,     0.33534,\n",
       "           0.33634,     0.33734,     0.33834,     0.33934,     0.34034,     0.34134,     0.34234,     0.34334,     0.34434,     0.34535,     0.34635,     0.34735,     0.34835,     0.34935,     0.35035,     0.35135,     0.35235,     0.35335,     0.35435,     0.35536,     0.35636,     0.35736,     0.35836,     0.35936,\n",
       "           0.36036,     0.36136,     0.36236,     0.36336,     0.36436,     0.36537,     0.36637,     0.36737,     0.36837,     0.36937,     0.37037,     0.37137,     0.37237,     0.37337,     0.37437,     0.37538,     0.37638,     0.37738,     0.37838,     0.37938,     0.38038,     0.38138,     0.38238,     0.38338,\n",
       "           0.38438,     0.38539,     0.38639,     0.38739,     0.38839,     0.38939,     0.39039,     0.39139,     0.39239,     0.39339,     0.39439,      0.3954,      0.3964,      0.3974,      0.3984,      0.3994,      0.4004,      0.4014,      0.4024,      0.4034,      0.4044,     0.40541,     0.40641,     0.40741,\n",
       "           0.40841,     0.40941,     0.41041,     0.41141,     0.41241,     0.41341,     0.41441,     0.41542,     0.41642,     0.41742,     0.41842,     0.41942,     0.42042,     0.42142,     0.42242,     0.42342,     0.42442,     0.42543,     0.42643,     0.42743,     0.42843,     0.42943,     0.43043,     0.43143,\n",
       "           0.43243,     0.43343,     0.43443,     0.43544,     0.43644,     0.43744,     0.43844,     0.43944,     0.44044,     0.44144,     0.44244,     0.44344,     0.44444,     0.44545,     0.44645,     0.44745,     0.44845,     0.44945,     0.45045,     0.45145,     0.45245,     0.45345,     0.45445,     0.45546,\n",
       "           0.45646,     0.45746,     0.45846,     0.45946,     0.46046,     0.46146,     0.46246,     0.46346,     0.46446,     0.46547,     0.46647,     0.46747,     0.46847,     0.46947,     0.47047,     0.47147,     0.47247,     0.47347,     0.47447,     0.47548,     0.47648,     0.47748,     0.47848,     0.47948,\n",
       "           0.48048,     0.48148,     0.48248,     0.48348,     0.48448,     0.48549,     0.48649,     0.48749,     0.48849,     0.48949,     0.49049,     0.49149,     0.49249,     0.49349,     0.49449,      0.4955,      0.4965,      0.4975,      0.4985,      0.4995,      0.5005,      0.5015,      0.5025,      0.5035,\n",
       "            0.5045,     0.50551,     0.50651,     0.50751,     0.50851,     0.50951,     0.51051,     0.51151,     0.51251,     0.51351,     0.51451,     0.51552,     0.51652,     0.51752,     0.51852,     0.51952,     0.52052,     0.52152,     0.52252,     0.52352,     0.52452,     0.52553,     0.52653,     0.52753,\n",
       "           0.52853,     0.52953,     0.53053,     0.53153,     0.53253,     0.53353,     0.53453,     0.53554,     0.53654,     0.53754,     0.53854,     0.53954,     0.54054,     0.54154,     0.54254,     0.54354,     0.54454,     0.54555,     0.54655,     0.54755,     0.54855,     0.54955,     0.55055,     0.55155,\n",
       "           0.55255,     0.55355,     0.55455,     0.55556,     0.55656,     0.55756,     0.55856,     0.55956,     0.56056,     0.56156,     0.56256,     0.56356,     0.56456,     0.56557,     0.56657,     0.56757,     0.56857,     0.56957,     0.57057,     0.57157,     0.57257,     0.57357,     0.57457,     0.57558,\n",
       "           0.57658,     0.57758,     0.57858,     0.57958,     0.58058,     0.58158,     0.58258,     0.58358,     0.58458,     0.58559,     0.58659,     0.58759,     0.58859,     0.58959,     0.59059,     0.59159,     0.59259,     0.59359,     0.59459,      0.5956,      0.5966,      0.5976,      0.5986,      0.5996,\n",
       "            0.6006,      0.6016,      0.6026,      0.6036,      0.6046,     0.60561,     0.60661,     0.60761,     0.60861,     0.60961,     0.61061,     0.61161,     0.61261,     0.61361,     0.61461,     0.61562,     0.61662,     0.61762,     0.61862,     0.61962,     0.62062,     0.62162,     0.62262,     0.62362,\n",
       "           0.62462,     0.62563,     0.62663,     0.62763,     0.62863,     0.62963,     0.63063,     0.63163,     0.63263,     0.63363,     0.63463,     0.63564,     0.63664,     0.63764,     0.63864,     0.63964,     0.64064,     0.64164,     0.64264,     0.64364,     0.64464,     0.64565,     0.64665,     0.64765,\n",
       "           0.64865,     0.64965,     0.65065,     0.65165,     0.65265,     0.65365,     0.65465,     0.65566,     0.65666,     0.65766,     0.65866,     0.65966,     0.66066,     0.66166,     0.66266,     0.66366,     0.66466,     0.66567,     0.66667,     0.66767,     0.66867,     0.66967,     0.67067,     0.67167,\n",
       "           0.67267,     0.67367,     0.67467,     0.67568,     0.67668,     0.67768,     0.67868,     0.67968,     0.68068,     0.68168,     0.68268,     0.68368,     0.68468,     0.68569,     0.68669,     0.68769,     0.68869,     0.68969,     0.69069,     0.69169,     0.69269,     0.69369,     0.69469,      0.6957,\n",
       "            0.6967,      0.6977,      0.6987,      0.6997,      0.7007,      0.7017,      0.7027,      0.7037,      0.7047,     0.70571,     0.70671,     0.70771,     0.70871,     0.70971,     0.71071,     0.71171,     0.71271,     0.71371,     0.71471,     0.71572,     0.71672,     0.71772,     0.71872,     0.71972,\n",
       "           0.72072,     0.72172,     0.72272,     0.72372,     0.72472,     0.72573,     0.72673,     0.72773,     0.72873,     0.72973,     0.73073,     0.73173,     0.73273,     0.73373,     0.73473,     0.73574,     0.73674,     0.73774,     0.73874,     0.73974,     0.74074,     0.74174,     0.74274,     0.74374,\n",
       "           0.74474,     0.74575,     0.74675,     0.74775,     0.74875,     0.74975,     0.75075,     0.75175,     0.75275,     0.75375,     0.75475,     0.75576,     0.75676,     0.75776,     0.75876,     0.75976,     0.76076,     0.76176,     0.76276,     0.76376,     0.76476,     0.76577,     0.76677,     0.76777,\n",
       "           0.76877,     0.76977,     0.77077,     0.77177,     0.77277,     0.77377,     0.77477,     0.77578,     0.77678,     0.77778,     0.77878,     0.77978,     0.78078,     0.78178,     0.78278,     0.78378,     0.78478,     0.78579,     0.78679,     0.78779,     0.78879,     0.78979,     0.79079,     0.79179,\n",
       "           0.79279,     0.79379,     0.79479,      0.7958,      0.7968,      0.7978,      0.7988,      0.7998,      0.8008,      0.8018,      0.8028,      0.8038,      0.8048,     0.80581,     0.80681,     0.80781,     0.80881,     0.80981,     0.81081,     0.81181,     0.81281,     0.81381,     0.81481,     0.81582,\n",
       "           0.81682,     0.81782,     0.81882,     0.81982,     0.82082,     0.82182,     0.82282,     0.82382,     0.82482,     0.82583,     0.82683,     0.82783,     0.82883,     0.82983,     0.83083,     0.83183,     0.83283,     0.83383,     0.83483,     0.83584,     0.83684,     0.83784,     0.83884,     0.83984,\n",
       "           0.84084,     0.84184,     0.84284,     0.84384,     0.84484,     0.84585,     0.84685,     0.84785,     0.84885,     0.84985,     0.85085,     0.85185,     0.85285,     0.85385,     0.85485,     0.85586,     0.85686,     0.85786,     0.85886,     0.85986,     0.86086,     0.86186,     0.86286,     0.86386,\n",
       "           0.86486,     0.86587,     0.86687,     0.86787,     0.86887,     0.86987,     0.87087,     0.87187,     0.87287,     0.87387,     0.87487,     0.87588,     0.87688,     0.87788,     0.87888,     0.87988,     0.88088,     0.88188,     0.88288,     0.88388,     0.88488,     0.88589,     0.88689,     0.88789,\n",
       "           0.88889,     0.88989,     0.89089,     0.89189,     0.89289,     0.89389,     0.89489,      0.8959,      0.8969,      0.8979,      0.8989,      0.8999,      0.9009,      0.9019,      0.9029,      0.9039,      0.9049,     0.90591,     0.90691,     0.90791,     0.90891,     0.90991,     0.91091,     0.91191,\n",
       "           0.91291,     0.91391,     0.91491,     0.91592,     0.91692,     0.91792,     0.91892,     0.91992,     0.92092,     0.92192,     0.92292,     0.92392,     0.92492,     0.92593,     0.92693,     0.92793,     0.92893,     0.92993,     0.93093,     0.93193,     0.93293,     0.93393,     0.93493,     0.93594,\n",
       "           0.93694,     0.93794,     0.93894,     0.93994,     0.94094,     0.94194,     0.94294,     0.94394,     0.94494,     0.94595,     0.94695,     0.94795,     0.94895,     0.94995,     0.95095,     0.95195,     0.95295,     0.95395,     0.95495,     0.95596,     0.95696,     0.95796,     0.95896,     0.95996,\n",
       "           0.96096,     0.96196,     0.96296,     0.96396,     0.96496,     0.96597,     0.96697,     0.96797,     0.96897,     0.96997,     0.97097,     0.97197,     0.97297,     0.97397,     0.97497,     0.97598,     0.97698,     0.97798,     0.97898,     0.97998,     0.98098,     0.98198,     0.98298,     0.98398,\n",
       "           0.98498,     0.98599,     0.98699,     0.98799,     0.98899,     0.98999,     0.99099,     0.99199,     0.99299,     0.99399,     0.99499,       0.996,       0.997,       0.998,       0.999,           1]), array([[          1,           1,           1,           1,           1,           1,           1,           1,           1,           1,           1,           1,           1,           1,           1,           1,           1,           1,           1,           1,           1,           1,           1,\n",
       "                  1,           1,           1,           1,           1,           1,           1,           1,           1,           1,           1,           1,           1,           1,           1,           1,           1,           1,           1,           1,           1,           1,           1,\n",
       "                  1,           1,           1,           1,           1,           1,           1,           1,           1,           1,           1,           1,           1,           1,           1,           1,           1,           1,           1,           1,           1,           1,           1,\n",
       "                  1,           1,           1,           1,           1,           1,           1,           1,           1,           1,           1,           1,           1,           1,           1,           1,           1,           1,           1,           1,           1,           1,           1,\n",
       "                  1,           1,           1,           1,           1,           1,           1,           1,           1,           1,           1,           1,           1,           1,           1,           1,           1,           1,           1,           1,           1,           1,           1,\n",
       "                  1,           1,           1,           1,           1,           1,           1,           1,           1,           1,           1,           1,           1,           1,           1,           1,           1,           1,           1,           1,           1,           1,           1,\n",
       "                  1,           1,           1,           1,           1,           1,           1,           1,           1,           1,           1,           1,           1,           1,           1,           1,           1,           1,           1,           1,           1,           1,           1,\n",
       "                  1,           1,           1,           1,           1,           1,           1,           1,           1,           1,           1,           1,           1,           1,           1,           1,           1,           1,           1,           1,           1,           1,           1,\n",
       "                  1,           1,           1,           1,           1,           1,           1,           1,           1,           1,           1,           1,           1,           1,           1,           1,           1,           1,           1,           1,           1,           1,           1,\n",
       "                  1,           1,           1,           1,           1,           1,           1,           1,           1,           1,           1,           1,           1,           1,           1,           1,           1,           1,           1,           1,           1,           1,           1,\n",
       "                  1,           1,           1,           1,           1,           1,           1,           1,           1,           1,           1,           1,           1,           1,           1,           1,           1,           1,           1,           1,           1,           1,           1,\n",
       "                  1,           1,           1,           1,           1,           1,           1,           1,           1,           1,           1,           1,           1,           1,           1,           1,           1,           1,           1,           1,           1,           1,           1,\n",
       "                  1,           1,           1,           1,           1,           1,           1,           1,           1,           1,           1,           1,           1,           1,           1,           1,           1,           1,           1,           1,           1,           1,           1,\n",
       "                  1,           1,           1,           1,           1,           1,           1,           1,           1,           1,           1,           1,           1,           1,           1,           1,           1,           1,           1,           1,           1,           1,           1,\n",
       "                  1,           1,           1,           1,           1,           1,           1,           1,           1,           1,           1,           1,           1,           1,           1,           1,           1,           1,           1,           1,           1,           1,           1,\n",
       "                  1,           1,           1,           1,           1,           1,           1,           1,           1,           1,           1,           1,           1,           1,           1,           1,           1,           1,           1,           1,           1,           1,           1,\n",
       "                  1,           1,           1,           1,           1,           1,           1,           1,           1,           1,           1,           1,           1,           1,           1,           1,           1,           1,           1,           1,           1,           1,           1,\n",
       "                  1,           1,           1,           1,           1,           1,           1,           1,           1,           1,           1,           1,           1,           1,           1,           1,           1,           1,           1,           1,           1,           1,           1,\n",
       "                  1,           1,           1,           1,           1,           1,           1,           1,           1,           1,           1,           1,           1,           1,           1,           1,           1,           1,           1,           1,           1,           1,           1,\n",
       "                  1,           1,           1,           1,           1,           1,           1,           1,           1,           1,           1,           1,           1,           1,           1,           1,           1,           1,           1,           1,           1,           1,           1,\n",
       "                  1,           1,           1,           1,           1,           1,           1,           1,           1,           1,           1,           1,           1,           1,           1,           1,           1,           1,           1,           1,           1,           1,           1,\n",
       "                  1,           1,           1,           1,           1,           1,           1,           1,           1,           1,           1,           1,           1,           1,           1,           1,           1,           1,           1,           1,           1,           1,           1,\n",
       "                  1,           1,           1,           1,           1,           1,           1,           1,           1,           1,           1,           1,           1,           1,           1,           1,           1,           1,           1,           1,           1,           1,           1,\n",
       "                  1,           1,           1,           1,           1,           1,           1,           1,           1,           1,           1,           1,           1,           1,           1,           1,           1,           1,           1,           1,           1,           1,           1,\n",
       "                  1,           1,           1,           1,           1,           1,           1,           1,           1,           1,           1,           1,           1,           1,           1,           1,           1,           1,           1,           1,           1,           1,           1,\n",
       "                  1,           1,           1,           1,           1,           1,           1,           1,           1,           1,           1,           1,           1,           1,           1,           1,           1,           1,           1,           1,           1,           1,           1,\n",
       "                  1,           1,           1,           1,           1,           1,           1,           1,           1,           1,           1,           1,           1,           1,           1,           1,           1,           1,           1,           1,           1,           1,           1,\n",
       "                  1,           1,           1,           1,           1,           1,           1,           1,           1,           1,           1,           1,           1,           1,           1,           1,           1,           1,           1,           1,           1,           1,           1,\n",
       "                  1,           1,           1,           1,           1,           1,           1,           1,           1,           1,           1,           1,           1,           1,           1,           1,           1,           1,           1,           1,           1,           1,           1,\n",
       "                  1,           1,           1,           1,           1,           1,           1,           1,           1,           1,           1,           1,           1,           1,           1,           1,           1,           1,           1,           1,           1,           1,           1,\n",
       "                  1,           1,           1,           1,           1,           1,           1,           1,           1,           1,           1,           1,           1,           1,           1,           1,           1,           1,           1,           1,           1,           1,           1,\n",
       "                  1,           1,           1,           1,           1,           1,           1,           1,           1,           1,           1,           1,           1,           1,           1,           1,           1,           1,           1,           1,           1,           1,           1,\n",
       "                  1,           1,           1,           1,           1,           1,           1,           1,           1,           1,           1,           1,           1,           1,           1,           1,           1,           1,           1,           1,           1,           1,           1,\n",
       "                  1,           1,           1,           1,           1,           1,           1,           1,           1,           1,           1,           1,           1,           1,           1,           1,           1,           1,           1,           1,           1,           1,           1,\n",
       "                  1,           1,           1,           1,           1,           1,           1,           1,           1,           1,           1,           1,           1,           1,           1,           1,           1,           1,           1,           1,           1,           1,           1,\n",
       "                  1,           1,     0.99248,     0.99248,     0.99248,     0.99248,     0.99248,     0.99248,     0.99248,     0.99248,     0.99248,     0.99248,     0.99248,     0.99248,     0.99248,     0.99248,     0.99248,     0.99248,     0.99248,     0.99248,     0.99248,     0.99248,     0.99248,\n",
       "            0.99248,     0.99248,     0.99248,     0.99248,     0.99248,     0.99248,     0.99248,     0.99248,     0.99248,     0.99248,     0.99248,     0.99248,     0.99248,     0.99248,     0.99248,     0.99248,     0.99248,     0.99248,     0.97826,     0.97826,     0.97826,     0.97826,     0.97826,\n",
       "            0.97826,     0.97826,     0.97826,     0.97826,     0.97826,     0.97826,     0.97826,     0.97826,     0.97826,     0.97826,     0.97826,     0.97826,     0.97826,     0.97826,     0.97315,     0.97315,     0.97315,     0.97315,     0.97315,     0.97315,     0.97315,     0.97315,     0.97315,\n",
       "            0.97315,     0.97315,     0.97315,     0.97315,     0.97315,     0.97315,     0.97315,     0.97315,     0.97315,     0.97315,     0.97315,     0.97315,     0.97315,     0.97315,     0.97315,     0.97315,     0.97315,     0.97315,     0.97315,     0.97315,     0.97315,     0.97315,     0.97315,\n",
       "            0.97315,     0.97315,     0.97315,     0.97315,     0.97315,     0.97315,     0.97315,     0.97315,     0.97315,     0.97315,     0.97315,     0.97315,     0.97315,     0.97315,     0.97315,     0.97315,     0.97315,     0.97315,     0.97315,     0.97315,     0.97315,     0.97315,     0.97315,\n",
       "            0.97315,     0.97315,     0.97315,     0.97315,     0.97315,     0.97315,     0.97315,     0.97315,     0.97315,     0.96711,     0.96711,     0.96711,     0.96711,     0.96711,     0.96711,     0.96711,     0.96711,     0.96711,     0.96711,     0.96711,     0.96711,     0.96711,     0.96129,\n",
       "            0.96129,     0.96129,     0.96129,     0.96129,     0.96129,     0.96129,     0.96129,     0.96129,     0.96129,     0.96129,     0.96129,     0.96129,     0.94937,     0.94937,     0.94937,     0.94937,     0.94937,     0.94937,     0.93865,     0.93865,     0.93865,     0.93865,     0.93865,\n",
       "            0.93865,     0.93865,     0.93865,     0.93865,     0.93865,     0.93865,     0.93865,     0.93865,     0.93865,     0.93865,     0.93865,     0.93865,     0.93865,     0.93865,     0.93333,     0.93333,     0.93333,     0.93333,     0.93333,     0.93333,     0.93333,     0.92814,     0.92814,\n",
       "            0.92814,     0.92814,     0.92814,     0.92814,     0.91228,     0.91228,     0.91228,     0.91228,     0.91228,     0.91228,           0]]), 'Recall', 'Precision'], [array([          0,    0.001001,    0.002002,    0.003003,    0.004004,    0.005005,    0.006006,    0.007007,    0.008008,    0.009009,     0.01001,    0.011011,    0.012012,    0.013013,    0.014014,    0.015015,    0.016016,    0.017017,    0.018018,    0.019019,     0.02002,    0.021021,    0.022022,    0.023023,\n",
       "          0.024024,    0.025025,    0.026026,    0.027027,    0.028028,    0.029029,     0.03003,    0.031031,    0.032032,    0.033033,    0.034034,    0.035035,    0.036036,    0.037037,    0.038038,    0.039039,     0.04004,    0.041041,    0.042042,    0.043043,    0.044044,    0.045045,    0.046046,    0.047047,\n",
       "          0.048048,    0.049049,     0.05005,    0.051051,    0.052052,    0.053053,    0.054054,    0.055055,    0.056056,    0.057057,    0.058058,    0.059059,     0.06006,    0.061061,    0.062062,    0.063063,    0.064064,    0.065065,    0.066066,    0.067067,    0.068068,    0.069069,     0.07007,    0.071071,\n",
       "          0.072072,    0.073073,    0.074074,    0.075075,    0.076076,    0.077077,    0.078078,    0.079079,     0.08008,    0.081081,    0.082082,    0.083083,    0.084084,    0.085085,    0.086086,    0.087087,    0.088088,    0.089089,     0.09009,    0.091091,    0.092092,    0.093093,    0.094094,    0.095095,\n",
       "          0.096096,    0.097097,    0.098098,    0.099099,      0.1001,      0.1011,      0.1021,      0.1031,      0.1041,     0.10511,     0.10611,     0.10711,     0.10811,     0.10911,     0.11011,     0.11111,     0.11211,     0.11311,     0.11411,     0.11512,     0.11612,     0.11712,     0.11812,     0.11912,\n",
       "           0.12012,     0.12112,     0.12212,     0.12312,     0.12412,     0.12513,     0.12613,     0.12713,     0.12813,     0.12913,     0.13013,     0.13113,     0.13213,     0.13313,     0.13413,     0.13514,     0.13614,     0.13714,     0.13814,     0.13914,     0.14014,     0.14114,     0.14214,     0.14314,\n",
       "           0.14414,     0.14515,     0.14615,     0.14715,     0.14815,     0.14915,     0.15015,     0.15115,     0.15215,     0.15315,     0.15415,     0.15516,     0.15616,     0.15716,     0.15816,     0.15916,     0.16016,     0.16116,     0.16216,     0.16316,     0.16416,     0.16517,     0.16617,     0.16717,\n",
       "           0.16817,     0.16917,     0.17017,     0.17117,     0.17217,     0.17317,     0.17417,     0.17518,     0.17618,     0.17718,     0.17818,     0.17918,     0.18018,     0.18118,     0.18218,     0.18318,     0.18418,     0.18519,     0.18619,     0.18719,     0.18819,     0.18919,     0.19019,     0.19119,\n",
       "           0.19219,     0.19319,     0.19419,      0.1952,      0.1962,      0.1972,      0.1982,      0.1992,      0.2002,      0.2012,      0.2022,      0.2032,      0.2042,     0.20521,     0.20621,     0.20721,     0.20821,     0.20921,     0.21021,     0.21121,     0.21221,     0.21321,     0.21421,     0.21522,\n",
       "           0.21622,     0.21722,     0.21822,     0.21922,     0.22022,     0.22122,     0.22222,     0.22322,     0.22422,     0.22523,     0.22623,     0.22723,     0.22823,     0.22923,     0.23023,     0.23123,     0.23223,     0.23323,     0.23423,     0.23524,     0.23624,     0.23724,     0.23824,     0.23924,\n",
       "           0.24024,     0.24124,     0.24224,     0.24324,     0.24424,     0.24525,     0.24625,     0.24725,     0.24825,     0.24925,     0.25025,     0.25125,     0.25225,     0.25325,     0.25425,     0.25526,     0.25626,     0.25726,     0.25826,     0.25926,     0.26026,     0.26126,     0.26226,     0.26326,\n",
       "           0.26426,     0.26527,     0.26627,     0.26727,     0.26827,     0.26927,     0.27027,     0.27127,     0.27227,     0.27327,     0.27427,     0.27528,     0.27628,     0.27728,     0.27828,     0.27928,     0.28028,     0.28128,     0.28228,     0.28328,     0.28428,     0.28529,     0.28629,     0.28729,\n",
       "           0.28829,     0.28929,     0.29029,     0.29129,     0.29229,     0.29329,     0.29429,      0.2953,      0.2963,      0.2973,      0.2983,      0.2993,      0.3003,      0.3013,      0.3023,      0.3033,      0.3043,     0.30531,     0.30631,     0.30731,     0.30831,     0.30931,     0.31031,     0.31131,\n",
       "           0.31231,     0.31331,     0.31431,     0.31532,     0.31632,     0.31732,     0.31832,     0.31932,     0.32032,     0.32132,     0.32232,     0.32332,     0.32432,     0.32533,     0.32633,     0.32733,     0.32833,     0.32933,     0.33033,     0.33133,     0.33233,     0.33333,     0.33433,     0.33534,\n",
       "           0.33634,     0.33734,     0.33834,     0.33934,     0.34034,     0.34134,     0.34234,     0.34334,     0.34434,     0.34535,     0.34635,     0.34735,     0.34835,     0.34935,     0.35035,     0.35135,     0.35235,     0.35335,     0.35435,     0.35536,     0.35636,     0.35736,     0.35836,     0.35936,\n",
       "           0.36036,     0.36136,     0.36236,     0.36336,     0.36436,     0.36537,     0.36637,     0.36737,     0.36837,     0.36937,     0.37037,     0.37137,     0.37237,     0.37337,     0.37437,     0.37538,     0.37638,     0.37738,     0.37838,     0.37938,     0.38038,     0.38138,     0.38238,     0.38338,\n",
       "           0.38438,     0.38539,     0.38639,     0.38739,     0.38839,     0.38939,     0.39039,     0.39139,     0.39239,     0.39339,     0.39439,      0.3954,      0.3964,      0.3974,      0.3984,      0.3994,      0.4004,      0.4014,      0.4024,      0.4034,      0.4044,     0.40541,     0.40641,     0.40741,\n",
       "           0.40841,     0.40941,     0.41041,     0.41141,     0.41241,     0.41341,     0.41441,     0.41542,     0.41642,     0.41742,     0.41842,     0.41942,     0.42042,     0.42142,     0.42242,     0.42342,     0.42442,     0.42543,     0.42643,     0.42743,     0.42843,     0.42943,     0.43043,     0.43143,\n",
       "           0.43243,     0.43343,     0.43443,     0.43544,     0.43644,     0.43744,     0.43844,     0.43944,     0.44044,     0.44144,     0.44244,     0.44344,     0.44444,     0.44545,     0.44645,     0.44745,     0.44845,     0.44945,     0.45045,     0.45145,     0.45245,     0.45345,     0.45445,     0.45546,\n",
       "           0.45646,     0.45746,     0.45846,     0.45946,     0.46046,     0.46146,     0.46246,     0.46346,     0.46446,     0.46547,     0.46647,     0.46747,     0.46847,     0.46947,     0.47047,     0.47147,     0.47247,     0.47347,     0.47447,     0.47548,     0.47648,     0.47748,     0.47848,     0.47948,\n",
       "           0.48048,     0.48148,     0.48248,     0.48348,     0.48448,     0.48549,     0.48649,     0.48749,     0.48849,     0.48949,     0.49049,     0.49149,     0.49249,     0.49349,     0.49449,      0.4955,      0.4965,      0.4975,      0.4985,      0.4995,      0.5005,      0.5015,      0.5025,      0.5035,\n",
       "            0.5045,     0.50551,     0.50651,     0.50751,     0.50851,     0.50951,     0.51051,     0.51151,     0.51251,     0.51351,     0.51451,     0.51552,     0.51652,     0.51752,     0.51852,     0.51952,     0.52052,     0.52152,     0.52252,     0.52352,     0.52452,     0.52553,     0.52653,     0.52753,\n",
       "           0.52853,     0.52953,     0.53053,     0.53153,     0.53253,     0.53353,     0.53453,     0.53554,     0.53654,     0.53754,     0.53854,     0.53954,     0.54054,     0.54154,     0.54254,     0.54354,     0.54454,     0.54555,     0.54655,     0.54755,     0.54855,     0.54955,     0.55055,     0.55155,\n",
       "           0.55255,     0.55355,     0.55455,     0.55556,     0.55656,     0.55756,     0.55856,     0.55956,     0.56056,     0.56156,     0.56256,     0.56356,     0.56456,     0.56557,     0.56657,     0.56757,     0.56857,     0.56957,     0.57057,     0.57157,     0.57257,     0.57357,     0.57457,     0.57558,\n",
       "           0.57658,     0.57758,     0.57858,     0.57958,     0.58058,     0.58158,     0.58258,     0.58358,     0.58458,     0.58559,     0.58659,     0.58759,     0.58859,     0.58959,     0.59059,     0.59159,     0.59259,     0.59359,     0.59459,      0.5956,      0.5966,      0.5976,      0.5986,      0.5996,\n",
       "            0.6006,      0.6016,      0.6026,      0.6036,      0.6046,     0.60561,     0.60661,     0.60761,     0.60861,     0.60961,     0.61061,     0.61161,     0.61261,     0.61361,     0.61461,     0.61562,     0.61662,     0.61762,     0.61862,     0.61962,     0.62062,     0.62162,     0.62262,     0.62362,\n",
       "           0.62462,     0.62563,     0.62663,     0.62763,     0.62863,     0.62963,     0.63063,     0.63163,     0.63263,     0.63363,     0.63463,     0.63564,     0.63664,     0.63764,     0.63864,     0.63964,     0.64064,     0.64164,     0.64264,     0.64364,     0.64464,     0.64565,     0.64665,     0.64765,\n",
       "           0.64865,     0.64965,     0.65065,     0.65165,     0.65265,     0.65365,     0.65465,     0.65566,     0.65666,     0.65766,     0.65866,     0.65966,     0.66066,     0.66166,     0.66266,     0.66366,     0.66466,     0.66567,     0.66667,     0.66767,     0.66867,     0.66967,     0.67067,     0.67167,\n",
       "           0.67267,     0.67367,     0.67467,     0.67568,     0.67668,     0.67768,     0.67868,     0.67968,     0.68068,     0.68168,     0.68268,     0.68368,     0.68468,     0.68569,     0.68669,     0.68769,     0.68869,     0.68969,     0.69069,     0.69169,     0.69269,     0.69369,     0.69469,      0.6957,\n",
       "            0.6967,      0.6977,      0.6987,      0.6997,      0.7007,      0.7017,      0.7027,      0.7037,      0.7047,     0.70571,     0.70671,     0.70771,     0.70871,     0.70971,     0.71071,     0.71171,     0.71271,     0.71371,     0.71471,     0.71572,     0.71672,     0.71772,     0.71872,     0.71972,\n",
       "           0.72072,     0.72172,     0.72272,     0.72372,     0.72472,     0.72573,     0.72673,     0.72773,     0.72873,     0.72973,     0.73073,     0.73173,     0.73273,     0.73373,     0.73473,     0.73574,     0.73674,     0.73774,     0.73874,     0.73974,     0.74074,     0.74174,     0.74274,     0.74374,\n",
       "           0.74474,     0.74575,     0.74675,     0.74775,     0.74875,     0.74975,     0.75075,     0.75175,     0.75275,     0.75375,     0.75475,     0.75576,     0.75676,     0.75776,     0.75876,     0.75976,     0.76076,     0.76176,     0.76276,     0.76376,     0.76476,     0.76577,     0.76677,     0.76777,\n",
       "           0.76877,     0.76977,     0.77077,     0.77177,     0.77277,     0.77377,     0.77477,     0.77578,     0.77678,     0.77778,     0.77878,     0.77978,     0.78078,     0.78178,     0.78278,     0.78378,     0.78478,     0.78579,     0.78679,     0.78779,     0.78879,     0.78979,     0.79079,     0.79179,\n",
       "           0.79279,     0.79379,     0.79479,      0.7958,      0.7968,      0.7978,      0.7988,      0.7998,      0.8008,      0.8018,      0.8028,      0.8038,      0.8048,     0.80581,     0.80681,     0.80781,     0.80881,     0.80981,     0.81081,     0.81181,     0.81281,     0.81381,     0.81481,     0.81582,\n",
       "           0.81682,     0.81782,     0.81882,     0.81982,     0.82082,     0.82182,     0.82282,     0.82382,     0.82482,     0.82583,     0.82683,     0.82783,     0.82883,     0.82983,     0.83083,     0.83183,     0.83283,     0.83383,     0.83483,     0.83584,     0.83684,     0.83784,     0.83884,     0.83984,\n",
       "           0.84084,     0.84184,     0.84284,     0.84384,     0.84484,     0.84585,     0.84685,     0.84785,     0.84885,     0.84985,     0.85085,     0.85185,     0.85285,     0.85385,     0.85485,     0.85586,     0.85686,     0.85786,     0.85886,     0.85986,     0.86086,     0.86186,     0.86286,     0.86386,\n",
       "           0.86486,     0.86587,     0.86687,     0.86787,     0.86887,     0.86987,     0.87087,     0.87187,     0.87287,     0.87387,     0.87487,     0.87588,     0.87688,     0.87788,     0.87888,     0.87988,     0.88088,     0.88188,     0.88288,     0.88388,     0.88488,     0.88589,     0.88689,     0.88789,\n",
       "           0.88889,     0.88989,     0.89089,     0.89189,     0.89289,     0.89389,     0.89489,      0.8959,      0.8969,      0.8979,      0.8989,      0.8999,      0.9009,      0.9019,      0.9029,      0.9039,      0.9049,     0.90591,     0.90691,     0.90791,     0.90891,     0.90991,     0.91091,     0.91191,\n",
       "           0.91291,     0.91391,     0.91491,     0.91592,     0.91692,     0.91792,     0.91892,     0.91992,     0.92092,     0.92192,     0.92292,     0.92392,     0.92492,     0.92593,     0.92693,     0.92793,     0.92893,     0.92993,     0.93093,     0.93193,     0.93293,     0.93393,     0.93493,     0.93594,\n",
       "           0.93694,     0.93794,     0.93894,     0.93994,     0.94094,     0.94194,     0.94294,     0.94394,     0.94494,     0.94595,     0.94695,     0.94795,     0.94895,     0.94995,     0.95095,     0.95195,     0.95295,     0.95395,     0.95495,     0.95596,     0.95696,     0.95796,     0.95896,     0.95996,\n",
       "           0.96096,     0.96196,     0.96296,     0.96396,     0.96496,     0.96597,     0.96697,     0.96797,     0.96897,     0.96997,     0.97097,     0.97197,     0.97297,     0.97397,     0.97497,     0.97598,     0.97698,     0.97798,     0.97898,     0.97998,     0.98098,     0.98198,     0.98298,     0.98398,\n",
       "           0.98498,     0.98599,     0.98699,     0.98799,     0.98899,     0.98999,     0.99099,     0.99199,     0.99299,     0.99399,     0.99499,       0.996,       0.997,       0.998,       0.999,           1]), array([[    0.53701,     0.53701,     0.70414,     0.77019,     0.81424,     0.83517,     0.85754,     0.87896,       0.894,     0.89933,     0.90669,      0.9133,     0.91451,     0.91626,     0.91867,     0.92233,     0.92426,     0.92569,     0.92856,     0.92916,     0.92975,     0.93034,     0.93093,\n",
       "            0.93163,     0.93256,     0.93349,     0.93856,     0.94008,     0.94051,     0.94093,     0.94136,     0.94178,     0.94221,     0.94276,     0.94499,     0.94559,     0.94576,     0.94594,     0.94611,     0.94628,     0.94645,     0.94662,     0.94679,     0.94697,     0.94714,     0.94731,\n",
       "            0.94748,     0.94765,     0.94782,       0.948,     0.94817,     0.94836,     0.94886,     0.94936,     0.94986,     0.95037,     0.95087,     0.95154,     0.95264,     0.95374,     0.95392,     0.95361,     0.95329,     0.95297,     0.95265,     0.95234,     0.95202,      0.9517,     0.95138,\n",
       "            0.95106,     0.95097,     0.95106,     0.95115,     0.95124,     0.95133,     0.95142,     0.95151,      0.9516,     0.95169,     0.95178,     0.95187,     0.95196,     0.95205,     0.95214,     0.95223,     0.95232,     0.95241,      0.9525,     0.95259,     0.95268,     0.95277,     0.95286,\n",
       "            0.95295,     0.95304,     0.95313,     0.95322,     0.95331,      0.9534,     0.95349,     0.95358,     0.95367,     0.95376,     0.95385,     0.95562,     0.95682,     0.95691,     0.95701,      0.9571,     0.95719,     0.95728,     0.95737,     0.95746,     0.95756,     0.95765,     0.95774,\n",
       "            0.95783,     0.95792,     0.95802,     0.95811,      0.9582,     0.95829,     0.95838,     0.95847,     0.95857,     0.95866,     0.95875,     0.95884,     0.95893,     0.95902,     0.95911,     0.95921,      0.9593,     0.95939,     0.95948,     0.95957,     0.95966,     0.95975,     0.95966,\n",
       "            0.95956,     0.95947,     0.95938,     0.95929,      0.9592,      0.9591,     0.95901,     0.95892,     0.95883,     0.95873,     0.95864,     0.95855,     0.95846,     0.95836,     0.95827,     0.95818,     0.95808,     0.95799,      0.9579,     0.95781,     0.95771,     0.95762,     0.95753,\n",
       "            0.95744,     0.95734,     0.95725,     0.95716,     0.95706,     0.95697,     0.95688,     0.95679,     0.95669,      0.9566,     0.95652,     0.95654,     0.95656,     0.95658,     0.95659,     0.95661,     0.95663,     0.95665,     0.95666,     0.95668,      0.9567,     0.95672,     0.95673,\n",
       "            0.95675,     0.95677,     0.95678,      0.9568,     0.95682,     0.95684,     0.95685,     0.95687,     0.95689,     0.95691,     0.95692,     0.95694,     0.95696,     0.95698,     0.95699,     0.95701,     0.95703,     0.95705,     0.95706,     0.95708,      0.9571,     0.95711,     0.95713,\n",
       "            0.95715,     0.95717,     0.95718,      0.9572,     0.95722,     0.95724,     0.95725,     0.95727,     0.95729,     0.95731,     0.95732,     0.95734,     0.95736,     0.95737,     0.95739,     0.95741,     0.95743,     0.95744,     0.95746,     0.95748,      0.9575,     0.95751,     0.95753,\n",
       "            0.95755,     0.95757,     0.95758,      0.9576,     0.95762,     0.95763,     0.95765,     0.95767,     0.95769,      0.9577,     0.95772,     0.95774,     0.95776,     0.95777,     0.95779,     0.95781,     0.95783,     0.95784,     0.95786,     0.95788,     0.95789,     0.95791,     0.95793,\n",
       "            0.95795,     0.95796,     0.95798,       0.958,     0.95802,     0.95803,     0.95805,     0.95807,     0.95809,      0.9581,     0.95812,     0.95814,     0.95815,     0.95817,     0.95819,     0.95821,     0.95822,     0.95824,     0.95826,     0.95828,     0.95829,     0.95831,     0.95833,\n",
       "            0.95834,     0.95836,     0.95838,      0.9584,     0.95841,     0.95843,     0.95845,     0.95847,     0.95848,      0.9585,     0.95852,     0.95854,     0.95855,     0.95857,     0.95859,      0.9586,     0.95862,     0.95864,     0.95866,     0.95867,     0.95869,     0.95871,     0.95873,\n",
       "            0.95874,     0.95876,     0.95878,     0.95879,     0.95881,     0.95883,     0.95885,     0.95886,     0.95888,      0.9589,     0.95892,     0.95893,     0.95895,     0.95897,     0.95898,       0.959,     0.95902,     0.95904,     0.95905,     0.95907,     0.95909,     0.95911,     0.95912,\n",
       "            0.95914,     0.95916,     0.95917,     0.95919,     0.95921,     0.95923,     0.95924,     0.95926,     0.95928,      0.9593,     0.95931,     0.95933,     0.95935,     0.95936,     0.95938,      0.9594,     0.95942,     0.95943,     0.95945,     0.95947,     0.95949,     0.95949,     0.95935,\n",
       "             0.9592,     0.95906,     0.95891,     0.95877,     0.95862,     0.95848,     0.95833,     0.95819,     0.95804,      0.9579,     0.95775,     0.95761,     0.95746,     0.95732,     0.95717,     0.95703,     0.95688,     0.95674,     0.95659,     0.95645,      0.9563,     0.95631,     0.95641,\n",
       "             0.9565,      0.9566,      0.9567,     0.95679,     0.95689,     0.95699,     0.95708,     0.95718,     0.95727,     0.95737,     0.95747,     0.95756,     0.95766,     0.95775,     0.95785,     0.95795,     0.95804,     0.95814,     0.95823,     0.95833,     0.95843,     0.95852,     0.95862,\n",
       "            0.95871,     0.95881,     0.95891,       0.959,      0.9591,     0.95919,     0.95923,      0.9592,     0.95916,     0.95913,     0.95909,     0.95905,     0.95902,     0.95898,     0.95895,     0.95891,     0.95887,     0.95884,      0.9588,     0.95877,     0.95873,      0.9587,     0.95866,\n",
       "            0.95862,     0.95859,     0.95855,     0.95852,     0.95848,     0.95844,     0.95841,     0.95837,     0.95834,      0.9583,     0.95827,     0.95823,     0.95819,     0.95816,     0.95812,     0.95809,     0.95805,     0.95801,     0.95798,     0.95794,     0.95791,     0.95787,     0.95784,\n",
       "             0.9578,     0.95776,     0.95773,     0.95769,     0.95766,     0.95762,     0.95758,     0.95755,     0.95751,     0.95748,     0.95744,      0.9574,     0.95737,     0.95733,      0.9573,     0.95726,     0.95723,     0.95719,     0.95715,     0.95712,     0.95708,     0.95705,     0.95701,\n",
       "            0.95697,     0.95694,      0.9569,     0.95687,     0.95683,     0.95679,     0.95676,     0.95672,     0.95669,     0.95665,     0.95661,     0.95658,     0.95654,     0.95651,     0.95647,     0.95643,      0.9564,     0.95636,     0.95633,     0.95629,     0.95626,     0.95622,     0.95618,\n",
       "            0.95615,     0.95611,     0.95608,     0.95604,       0.956,     0.95198,     0.95241,     0.95251,     0.95261,     0.95272,     0.95282,     0.95292,     0.95303,     0.95313,     0.95324,     0.95334,     0.95344,     0.95355,     0.95365,     0.95375,     0.95386,     0.95396,     0.95407,\n",
       "            0.95417,     0.95427,     0.95438,     0.95448,     0.95458,     0.95469,     0.95479,     0.95489,       0.955,      0.9551,      0.9552,     0.95531,     0.95541,     0.95536,      0.9553,     0.95525,     0.95519,     0.95513,     0.95508,     0.95502,     0.95496,     0.95491,     0.95485,\n",
       "             0.9548,     0.95474,     0.95468,     0.95463,     0.95457,     0.95451,     0.95446,      0.9544,     0.95434,     0.95429,     0.95423,     0.95417,     0.95412,     0.95406,       0.954,     0.95395,     0.95389,     0.95384,     0.95378,     0.95372,     0.95367,     0.95361,     0.95355,\n",
       "             0.9535,     0.95344,     0.95338,     0.95333,     0.95327,     0.95321,     0.95316,      0.9531,     0.95304,     0.95299,     0.95293,     0.95287,     0.95282,     0.95276,      0.9527,     0.95265,     0.95259,     0.95253,     0.95248,     0.95242,     0.95236,     0.95231,     0.95225,\n",
       "            0.95219,     0.95214,     0.95208,     0.95306,      0.9541,     0.95513,     0.95518,     0.95523,     0.95528,     0.95533,     0.95538,     0.95543,     0.95548,     0.95553,     0.95558,     0.95563,     0.95568,     0.95573,     0.95578,     0.95582,     0.95587,     0.95592,     0.95597,\n",
       "            0.95602,     0.95607,     0.95612,     0.95617,     0.95622,     0.95627,     0.95632,     0.95637,     0.95642,     0.95647,     0.95652,     0.95657,     0.95662,     0.95667,     0.95672,     0.95677,     0.95682,     0.95687,     0.95692,     0.95697,     0.95702,     0.95706,     0.95711,\n",
       "            0.95716,     0.95721,     0.95726,     0.95731,     0.95736,     0.95741,     0.95746,     0.95751,     0.95756,     0.95761,     0.95766,     0.95771,     0.95776,     0.95781,     0.95786,     0.95791,     0.95796,       0.958,     0.95805,      0.9581,     0.95815,     0.95819,     0.95796,\n",
       "            0.95774,     0.95752,      0.9573,     0.95708,     0.95685,     0.95663,     0.95641,     0.95619,     0.95596,     0.95574,     0.95552,      0.9553,     0.95507,     0.95485,     0.95458,      0.9543,     0.95402,     0.95375,     0.95347,     0.95319,     0.95292,     0.95264,     0.95236,\n",
       "            0.95208,      0.9518,     0.95153,     0.95205,     0.95284,     0.95363,     0.95442,     0.95307,     0.95132,     0.95095,     0.95074,     0.95053,     0.95031,      0.9501,     0.94989,     0.94967,     0.94946,     0.94925,     0.94904,     0.94882,     0.94861,      0.9484,     0.94818,\n",
       "            0.94797,     0.94776,     0.94787,     0.94807,     0.94827,     0.94847,     0.94867,     0.94887,     0.94907,     0.94927,     0.94947,     0.94967,     0.94986,     0.95006,     0.95026,     0.95046,     0.95066,     0.95075,     0.95038,     0.95001,     0.94963,     0.94926,     0.94889,\n",
       "            0.94852,     0.94814,     0.94777,      0.9474,     0.94687,     0.94632,     0.94577,     0.94522,     0.94467,     0.94413,     0.94377,     0.94355,     0.94334,     0.94312,      0.9429,     0.94268,     0.94247,     0.94225,     0.94203,     0.94182,      0.9416,     0.94138,     0.94116,\n",
       "            0.94095,     0.94073,     0.94051,     0.93982,     0.93862,     0.93741,      0.9363,     0.93527,     0.93423,     0.93323,      0.9325,     0.93177,     0.93104,     0.93031,     0.92521,     0.91838,     0.91651,     0.91561,     0.91668,     0.91774,     0.91793,     0.91685,     0.91577,\n",
       "            0.91468,     0.91215,      0.9096,     0.90729,     0.90836,     0.90943,     0.91126,     0.91266,     0.91137,     0.91008,     0.90172,     0.90015,     0.89856,     0.89374,     0.89174,     0.89069,     0.89134,     0.89199,     0.89264,     0.89328,     0.88838,     0.88156,      0.8755,\n",
       "            0.86723,     0.85884,     0.84342,     0.83829,     0.82557,     0.81506,     0.79001,      0.7868,     0.77388,      0.7678,     0.75618,     0.75363,     0.75126,     0.74921,     0.74715,     0.73456,     0.72684,     0.71253,     0.70518,     0.69803,     0.67757,     0.66631,      0.6624,\n",
       "            0.64557,     0.62889,     0.61828,     0.61243,      0.6082,      0.5897,     0.57839,      0.5667,     0.55324,     0.53351,     0.52879,     0.51485,     0.49544,     0.48197,     0.47436,     0.44508,     0.43964,     0.39942,     0.38289,     0.37714,      0.3523,     0.32555,     0.30006,\n",
       "            0.28363,      0.2739,     0.26406,     0.25506,     0.24837,     0.22882,     0.20823,     0.19762,     0.17628,     0.16868,     0.16216,     0.15659,     0.14814,     0.12561,     0.11724,      0.1114,    0.090328,     0.08285,    0.078007,    0.072907,    0.066787,    0.059143,    0.036061,\n",
       "           0.029704,    0.023306,    0.016867,           0,           0,           0,           0,           0,           0,           0,           0,           0,           0,           0,           0,           0,           0,           0,           0,           0,           0,           0,           0,\n",
       "                  0,           0,           0,           0,           0,           0,           0,           0,           0,           0,           0,           0,           0,           0,           0,           0,           0,           0,           0,           0,           0,           0,           0,\n",
       "                  0,           0,           0,           0,           0,           0,           0,           0,           0,           0,           0,           0,           0,           0,           0,           0,           0,           0,           0,           0,           0,           0,           0,\n",
       "                  0,           0,           0,           0,           0,           0,           0,           0,           0,           0,           0,           0,           0,           0,           0,           0,           0,           0,           0,           0,           0,           0,           0,\n",
       "                  0,           0,           0,           0,           0,           0,           0,           0,           0,           0,           0,           0,           0,           0,           0,           0,           0,           0,           0,           0,           0,           0,           0,\n",
       "                  0,           0,           0,           0,           0,           0,           0,           0,           0,           0,           0,           0,           0,           0,           0,           0,           0,           0,           0,           0,           0,           0,           0,\n",
       "                  0,           0,           0,           0,           0,           0,           0,           0,           0,           0,           0]]), 'Confidence', 'F1'], [array([          0,    0.001001,    0.002002,    0.003003,    0.004004,    0.005005,    0.006006,    0.007007,    0.008008,    0.009009,     0.01001,    0.011011,    0.012012,    0.013013,    0.014014,    0.015015,    0.016016,    0.017017,    0.018018,    0.019019,     0.02002,    0.021021,    0.022022,    0.023023,\n",
       "          0.024024,    0.025025,    0.026026,    0.027027,    0.028028,    0.029029,     0.03003,    0.031031,    0.032032,    0.033033,    0.034034,    0.035035,    0.036036,    0.037037,    0.038038,    0.039039,     0.04004,    0.041041,    0.042042,    0.043043,    0.044044,    0.045045,    0.046046,    0.047047,\n",
       "          0.048048,    0.049049,     0.05005,    0.051051,    0.052052,    0.053053,    0.054054,    0.055055,    0.056056,    0.057057,    0.058058,    0.059059,     0.06006,    0.061061,    0.062062,    0.063063,    0.064064,    0.065065,    0.066066,    0.067067,    0.068068,    0.069069,     0.07007,    0.071071,\n",
       "          0.072072,    0.073073,    0.074074,    0.075075,    0.076076,    0.077077,    0.078078,    0.079079,     0.08008,    0.081081,    0.082082,    0.083083,    0.084084,    0.085085,    0.086086,    0.087087,    0.088088,    0.089089,     0.09009,    0.091091,    0.092092,    0.093093,    0.094094,    0.095095,\n",
       "          0.096096,    0.097097,    0.098098,    0.099099,      0.1001,      0.1011,      0.1021,      0.1031,      0.1041,     0.10511,     0.10611,     0.10711,     0.10811,     0.10911,     0.11011,     0.11111,     0.11211,     0.11311,     0.11411,     0.11512,     0.11612,     0.11712,     0.11812,     0.11912,\n",
       "           0.12012,     0.12112,     0.12212,     0.12312,     0.12412,     0.12513,     0.12613,     0.12713,     0.12813,     0.12913,     0.13013,     0.13113,     0.13213,     0.13313,     0.13413,     0.13514,     0.13614,     0.13714,     0.13814,     0.13914,     0.14014,     0.14114,     0.14214,     0.14314,\n",
       "           0.14414,     0.14515,     0.14615,     0.14715,     0.14815,     0.14915,     0.15015,     0.15115,     0.15215,     0.15315,     0.15415,     0.15516,     0.15616,     0.15716,     0.15816,     0.15916,     0.16016,     0.16116,     0.16216,     0.16316,     0.16416,     0.16517,     0.16617,     0.16717,\n",
       "           0.16817,     0.16917,     0.17017,     0.17117,     0.17217,     0.17317,     0.17417,     0.17518,     0.17618,     0.17718,     0.17818,     0.17918,     0.18018,     0.18118,     0.18218,     0.18318,     0.18418,     0.18519,     0.18619,     0.18719,     0.18819,     0.18919,     0.19019,     0.19119,\n",
       "           0.19219,     0.19319,     0.19419,      0.1952,      0.1962,      0.1972,      0.1982,      0.1992,      0.2002,      0.2012,      0.2022,      0.2032,      0.2042,     0.20521,     0.20621,     0.20721,     0.20821,     0.20921,     0.21021,     0.21121,     0.21221,     0.21321,     0.21421,     0.21522,\n",
       "           0.21622,     0.21722,     0.21822,     0.21922,     0.22022,     0.22122,     0.22222,     0.22322,     0.22422,     0.22523,     0.22623,     0.22723,     0.22823,     0.22923,     0.23023,     0.23123,     0.23223,     0.23323,     0.23423,     0.23524,     0.23624,     0.23724,     0.23824,     0.23924,\n",
       "           0.24024,     0.24124,     0.24224,     0.24324,     0.24424,     0.24525,     0.24625,     0.24725,     0.24825,     0.24925,     0.25025,     0.25125,     0.25225,     0.25325,     0.25425,     0.25526,     0.25626,     0.25726,     0.25826,     0.25926,     0.26026,     0.26126,     0.26226,     0.26326,\n",
       "           0.26426,     0.26527,     0.26627,     0.26727,     0.26827,     0.26927,     0.27027,     0.27127,     0.27227,     0.27327,     0.27427,     0.27528,     0.27628,     0.27728,     0.27828,     0.27928,     0.28028,     0.28128,     0.28228,     0.28328,     0.28428,     0.28529,     0.28629,     0.28729,\n",
       "           0.28829,     0.28929,     0.29029,     0.29129,     0.29229,     0.29329,     0.29429,      0.2953,      0.2963,      0.2973,      0.2983,      0.2993,      0.3003,      0.3013,      0.3023,      0.3033,      0.3043,     0.30531,     0.30631,     0.30731,     0.30831,     0.30931,     0.31031,     0.31131,\n",
       "           0.31231,     0.31331,     0.31431,     0.31532,     0.31632,     0.31732,     0.31832,     0.31932,     0.32032,     0.32132,     0.32232,     0.32332,     0.32432,     0.32533,     0.32633,     0.32733,     0.32833,     0.32933,     0.33033,     0.33133,     0.33233,     0.33333,     0.33433,     0.33534,\n",
       "           0.33634,     0.33734,     0.33834,     0.33934,     0.34034,     0.34134,     0.34234,     0.34334,     0.34434,     0.34535,     0.34635,     0.34735,     0.34835,     0.34935,     0.35035,     0.35135,     0.35235,     0.35335,     0.35435,     0.35536,     0.35636,     0.35736,     0.35836,     0.35936,\n",
       "           0.36036,     0.36136,     0.36236,     0.36336,     0.36436,     0.36537,     0.36637,     0.36737,     0.36837,     0.36937,     0.37037,     0.37137,     0.37237,     0.37337,     0.37437,     0.37538,     0.37638,     0.37738,     0.37838,     0.37938,     0.38038,     0.38138,     0.38238,     0.38338,\n",
       "           0.38438,     0.38539,     0.38639,     0.38739,     0.38839,     0.38939,     0.39039,     0.39139,     0.39239,     0.39339,     0.39439,      0.3954,      0.3964,      0.3974,      0.3984,      0.3994,      0.4004,      0.4014,      0.4024,      0.4034,      0.4044,     0.40541,     0.40641,     0.40741,\n",
       "           0.40841,     0.40941,     0.41041,     0.41141,     0.41241,     0.41341,     0.41441,     0.41542,     0.41642,     0.41742,     0.41842,     0.41942,     0.42042,     0.42142,     0.42242,     0.42342,     0.42442,     0.42543,     0.42643,     0.42743,     0.42843,     0.42943,     0.43043,     0.43143,\n",
       "           0.43243,     0.43343,     0.43443,     0.43544,     0.43644,     0.43744,     0.43844,     0.43944,     0.44044,     0.44144,     0.44244,     0.44344,     0.44444,     0.44545,     0.44645,     0.44745,     0.44845,     0.44945,     0.45045,     0.45145,     0.45245,     0.45345,     0.45445,     0.45546,\n",
       "           0.45646,     0.45746,     0.45846,     0.45946,     0.46046,     0.46146,     0.46246,     0.46346,     0.46446,     0.46547,     0.46647,     0.46747,     0.46847,     0.46947,     0.47047,     0.47147,     0.47247,     0.47347,     0.47447,     0.47548,     0.47648,     0.47748,     0.47848,     0.47948,\n",
       "           0.48048,     0.48148,     0.48248,     0.48348,     0.48448,     0.48549,     0.48649,     0.48749,     0.48849,     0.48949,     0.49049,     0.49149,     0.49249,     0.49349,     0.49449,      0.4955,      0.4965,      0.4975,      0.4985,      0.4995,      0.5005,      0.5015,      0.5025,      0.5035,\n",
       "            0.5045,     0.50551,     0.50651,     0.50751,     0.50851,     0.50951,     0.51051,     0.51151,     0.51251,     0.51351,     0.51451,     0.51552,     0.51652,     0.51752,     0.51852,     0.51952,     0.52052,     0.52152,     0.52252,     0.52352,     0.52452,     0.52553,     0.52653,     0.52753,\n",
       "           0.52853,     0.52953,     0.53053,     0.53153,     0.53253,     0.53353,     0.53453,     0.53554,     0.53654,     0.53754,     0.53854,     0.53954,     0.54054,     0.54154,     0.54254,     0.54354,     0.54454,     0.54555,     0.54655,     0.54755,     0.54855,     0.54955,     0.55055,     0.55155,\n",
       "           0.55255,     0.55355,     0.55455,     0.55556,     0.55656,     0.55756,     0.55856,     0.55956,     0.56056,     0.56156,     0.56256,     0.56356,     0.56456,     0.56557,     0.56657,     0.56757,     0.56857,     0.56957,     0.57057,     0.57157,     0.57257,     0.57357,     0.57457,     0.57558,\n",
       "           0.57658,     0.57758,     0.57858,     0.57958,     0.58058,     0.58158,     0.58258,     0.58358,     0.58458,     0.58559,     0.58659,     0.58759,     0.58859,     0.58959,     0.59059,     0.59159,     0.59259,     0.59359,     0.59459,      0.5956,      0.5966,      0.5976,      0.5986,      0.5996,\n",
       "            0.6006,      0.6016,      0.6026,      0.6036,      0.6046,     0.60561,     0.60661,     0.60761,     0.60861,     0.60961,     0.61061,     0.61161,     0.61261,     0.61361,     0.61461,     0.61562,     0.61662,     0.61762,     0.61862,     0.61962,     0.62062,     0.62162,     0.62262,     0.62362,\n",
       "           0.62462,     0.62563,     0.62663,     0.62763,     0.62863,     0.62963,     0.63063,     0.63163,     0.63263,     0.63363,     0.63463,     0.63564,     0.63664,     0.63764,     0.63864,     0.63964,     0.64064,     0.64164,     0.64264,     0.64364,     0.64464,     0.64565,     0.64665,     0.64765,\n",
       "           0.64865,     0.64965,     0.65065,     0.65165,     0.65265,     0.65365,     0.65465,     0.65566,     0.65666,     0.65766,     0.65866,     0.65966,     0.66066,     0.66166,     0.66266,     0.66366,     0.66466,     0.66567,     0.66667,     0.66767,     0.66867,     0.66967,     0.67067,     0.67167,\n",
       "           0.67267,     0.67367,     0.67467,     0.67568,     0.67668,     0.67768,     0.67868,     0.67968,     0.68068,     0.68168,     0.68268,     0.68368,     0.68468,     0.68569,     0.68669,     0.68769,     0.68869,     0.68969,     0.69069,     0.69169,     0.69269,     0.69369,     0.69469,      0.6957,\n",
       "            0.6967,      0.6977,      0.6987,      0.6997,      0.7007,      0.7017,      0.7027,      0.7037,      0.7047,     0.70571,     0.70671,     0.70771,     0.70871,     0.70971,     0.71071,     0.71171,     0.71271,     0.71371,     0.71471,     0.71572,     0.71672,     0.71772,     0.71872,     0.71972,\n",
       "           0.72072,     0.72172,     0.72272,     0.72372,     0.72472,     0.72573,     0.72673,     0.72773,     0.72873,     0.72973,     0.73073,     0.73173,     0.73273,     0.73373,     0.73473,     0.73574,     0.73674,     0.73774,     0.73874,     0.73974,     0.74074,     0.74174,     0.74274,     0.74374,\n",
       "           0.74474,     0.74575,     0.74675,     0.74775,     0.74875,     0.74975,     0.75075,     0.75175,     0.75275,     0.75375,     0.75475,     0.75576,     0.75676,     0.75776,     0.75876,     0.75976,     0.76076,     0.76176,     0.76276,     0.76376,     0.76476,     0.76577,     0.76677,     0.76777,\n",
       "           0.76877,     0.76977,     0.77077,     0.77177,     0.77277,     0.77377,     0.77477,     0.77578,     0.77678,     0.77778,     0.77878,     0.77978,     0.78078,     0.78178,     0.78278,     0.78378,     0.78478,     0.78579,     0.78679,     0.78779,     0.78879,     0.78979,     0.79079,     0.79179,\n",
       "           0.79279,     0.79379,     0.79479,      0.7958,      0.7968,      0.7978,      0.7988,      0.7998,      0.8008,      0.8018,      0.8028,      0.8038,      0.8048,     0.80581,     0.80681,     0.80781,     0.80881,     0.80981,     0.81081,     0.81181,     0.81281,     0.81381,     0.81481,     0.81582,\n",
       "           0.81682,     0.81782,     0.81882,     0.81982,     0.82082,     0.82182,     0.82282,     0.82382,     0.82482,     0.82583,     0.82683,     0.82783,     0.82883,     0.82983,     0.83083,     0.83183,     0.83283,     0.83383,     0.83483,     0.83584,     0.83684,     0.83784,     0.83884,     0.83984,\n",
       "           0.84084,     0.84184,     0.84284,     0.84384,     0.84484,     0.84585,     0.84685,     0.84785,     0.84885,     0.84985,     0.85085,     0.85185,     0.85285,     0.85385,     0.85485,     0.85586,     0.85686,     0.85786,     0.85886,     0.85986,     0.86086,     0.86186,     0.86286,     0.86386,\n",
       "           0.86486,     0.86587,     0.86687,     0.86787,     0.86887,     0.86987,     0.87087,     0.87187,     0.87287,     0.87387,     0.87487,     0.87588,     0.87688,     0.87788,     0.87888,     0.87988,     0.88088,     0.88188,     0.88288,     0.88388,     0.88488,     0.88589,     0.88689,     0.88789,\n",
       "           0.88889,     0.88989,     0.89089,     0.89189,     0.89289,     0.89389,     0.89489,      0.8959,      0.8969,      0.8979,      0.8989,      0.8999,      0.9009,      0.9019,      0.9029,      0.9039,      0.9049,     0.90591,     0.90691,     0.90791,     0.90891,     0.90991,     0.91091,     0.91191,\n",
       "           0.91291,     0.91391,     0.91491,     0.91592,     0.91692,     0.91792,     0.91892,     0.91992,     0.92092,     0.92192,     0.92292,     0.92392,     0.92492,     0.92593,     0.92693,     0.92793,     0.92893,     0.92993,     0.93093,     0.93193,     0.93293,     0.93393,     0.93493,     0.93594,\n",
       "           0.93694,     0.93794,     0.93894,     0.93994,     0.94094,     0.94194,     0.94294,     0.94394,     0.94494,     0.94595,     0.94695,     0.94795,     0.94895,     0.94995,     0.95095,     0.95195,     0.95295,     0.95395,     0.95495,     0.95596,     0.95696,     0.95796,     0.95896,     0.95996,\n",
       "           0.96096,     0.96196,     0.96296,     0.96396,     0.96496,     0.96597,     0.96697,     0.96797,     0.96897,     0.96997,     0.97097,     0.97197,     0.97297,     0.97397,     0.97497,     0.97598,     0.97698,     0.97798,     0.97898,     0.97998,     0.98098,     0.98198,     0.98298,     0.98398,\n",
       "           0.98498,     0.98599,     0.98699,     0.98799,     0.98899,     0.98999,     0.99099,     0.99199,     0.99299,     0.99399,     0.99499,       0.996,       0.997,       0.998,       0.999,           1]), array([[    0.36706,     0.36706,     0.54338,     0.62627,     0.68669,       0.717,     0.75061,     0.78406,     0.80832,     0.81708,      0.8293,     0.84043,     0.84248,     0.84546,     0.84957,     0.85585,     0.85919,     0.86166,     0.86665,      0.8677,     0.86873,     0.86976,     0.87079,\n",
       "              0.872,     0.87364,     0.87528,     0.88423,     0.88694,      0.8877,     0.88846,     0.88921,     0.88997,     0.89073,     0.89172,     0.89573,      0.8968,     0.89711,     0.89742,     0.89773,     0.89804,     0.89835,     0.89866,     0.89896,     0.89927,     0.89958,     0.89989,\n",
       "             0.9002,     0.90051,     0.90082,     0.90113,     0.90144,     0.90179,      0.9027,      0.9036,     0.90451,     0.90542,     0.90633,     0.90756,     0.90956,     0.91156,     0.91225,      0.9122,     0.91215,     0.91209,     0.91204,     0.91199,     0.91194,     0.91189,     0.91184,\n",
       "            0.91179,     0.91186,     0.91202,     0.91219,     0.91235,     0.91252,     0.91268,     0.91285,     0.91302,     0.91318,     0.91335,     0.91351,     0.91368,     0.91384,     0.91401,     0.91418,     0.91434,     0.91451,     0.91467,     0.91484,       0.915,     0.91517,     0.91534,\n",
       "             0.9155,     0.91567,     0.91583,       0.916,     0.91616,     0.91633,      0.9165,     0.91666,     0.91683,     0.91699,     0.91716,     0.92044,     0.92268,     0.92285,     0.92302,     0.92319,     0.92336,     0.92353,      0.9237,     0.92387,     0.92405,     0.92422,     0.92439,\n",
       "            0.92456,     0.92473,      0.9249,     0.92507,     0.92524,     0.92541,     0.92558,     0.92576,     0.92593,      0.9261,     0.92627,     0.92644,     0.92661,     0.92678,     0.92695,     0.92712,     0.92729,     0.92746,     0.92764,     0.92781,     0.92798,     0.92814,     0.92813,\n",
       "            0.92812,     0.92811,     0.92809,     0.92808,     0.92807,     0.92806,     0.92804,     0.92803,     0.92802,     0.92801,     0.92799,     0.92798,     0.92797,     0.92796,     0.92794,     0.92793,     0.92792,     0.92791,      0.9279,     0.92788,     0.92787,     0.92786,     0.92785,\n",
       "            0.92783,     0.92782,     0.92781,      0.9278,     0.92778,     0.92777,     0.92776,     0.92775,     0.92773,     0.92772,     0.92772,     0.92775,     0.92778,     0.92781,     0.92785,     0.92788,     0.92791,     0.92794,     0.92798,     0.92801,     0.92804,     0.92808,     0.92811,\n",
       "            0.92814,     0.92817,     0.92821,     0.92824,     0.92827,      0.9283,     0.92834,     0.92837,      0.9284,     0.92843,     0.92847,      0.9285,     0.92853,     0.92857,      0.9286,     0.92863,     0.92866,      0.9287,     0.92873,     0.92876,     0.92879,     0.92883,     0.92886,\n",
       "            0.92889,     0.92892,     0.92896,     0.92899,     0.92902,     0.92906,     0.92909,     0.92912,     0.92915,     0.92919,     0.92922,     0.92925,     0.92928,     0.92932,     0.92935,     0.92938,     0.92941,     0.92945,     0.92948,     0.92951,     0.92955,     0.92958,     0.92961,\n",
       "            0.92964,     0.92968,     0.92971,     0.92974,     0.92977,     0.92981,     0.92984,     0.92987,     0.92991,     0.92994,     0.92997,        0.93,     0.93004,     0.93007,      0.9301,     0.93013,     0.93017,      0.9302,     0.93023,     0.93026,      0.9303,     0.93033,     0.93036,\n",
       "             0.9304,     0.93043,     0.93046,     0.93049,     0.93053,     0.93056,     0.93059,     0.93062,     0.93066,     0.93069,     0.93072,     0.93075,     0.93079,     0.93082,     0.93085,     0.93089,     0.93092,     0.93095,     0.93098,     0.93102,     0.93105,     0.93108,     0.93111,\n",
       "            0.93115,     0.93118,     0.93121,     0.93124,     0.93128,     0.93131,     0.93134,     0.93138,     0.93141,     0.93144,     0.93147,     0.93151,     0.93154,     0.93157,      0.9316,     0.93164,     0.93167,      0.9317,     0.93173,     0.93177,      0.9318,     0.93183,     0.93187,\n",
       "             0.9319,     0.93193,     0.93196,       0.932,     0.93203,     0.93206,     0.93209,     0.93213,     0.93216,     0.93219,     0.93223,     0.93226,     0.93229,     0.93232,     0.93236,     0.93239,     0.93242,     0.93245,     0.93249,     0.93252,     0.93255,     0.93258,     0.93262,\n",
       "            0.93265,     0.93268,     0.93272,     0.93275,     0.93278,     0.93281,     0.93285,     0.93288,     0.93291,     0.93294,     0.93298,     0.93301,     0.93304,     0.93307,     0.93311,     0.93314,     0.93317,     0.93321,     0.93324,     0.93327,      0.9333,     0.93333,     0.93331,\n",
       "             0.9333,     0.93328,     0.93326,     0.93324,     0.93322,     0.93321,     0.93319,     0.93317,     0.93315,     0.93313,     0.93311,      0.9331,     0.93308,     0.93306,     0.93304,     0.93302,     0.93301,     0.93299,     0.93297,     0.93295,     0.93293,     0.93304,     0.93323,\n",
       "            0.93341,     0.93359,     0.93378,     0.93396,     0.93414,     0.93433,     0.93451,     0.93469,     0.93488,     0.93506,     0.93524,     0.93543,     0.93561,     0.93579,     0.93598,     0.93616,     0.93634,     0.93653,     0.93671,     0.93689,     0.93708,     0.93726,     0.93744,\n",
       "            0.93763,     0.93781,     0.93799,     0.93818,     0.93836,     0.93854,     0.93865,     0.93864,     0.93864,     0.93864,     0.93863,     0.93863,     0.93862,     0.93862,     0.93862,     0.93861,     0.93861,      0.9386,      0.9386,     0.93859,     0.93859,     0.93859,     0.93858,\n",
       "            0.93858,     0.93857,     0.93857,     0.93857,     0.93856,     0.93856,     0.93855,     0.93855,     0.93854,     0.93854,     0.93854,     0.93853,     0.93853,     0.93852,     0.93852,     0.93852,     0.93851,     0.93851,      0.9385,      0.9385,     0.93849,     0.93849,     0.93849,\n",
       "            0.93848,     0.93848,     0.93847,     0.93847,     0.93847,     0.93846,     0.93846,     0.93845,     0.93845,     0.93845,     0.93844,     0.93844,     0.93843,     0.93843,     0.93842,     0.93842,     0.93842,     0.93841,     0.93841,      0.9384,      0.9384,      0.9384,     0.93839,\n",
       "            0.93839,     0.93838,     0.93838,     0.93837,     0.93837,     0.93837,     0.93836,     0.93836,     0.93835,     0.93835,     0.93835,     0.93834,     0.93834,     0.93833,     0.93833,     0.93832,     0.93832,     0.93832,     0.93831,     0.93831,      0.9383,      0.9383,      0.9383,\n",
       "            0.93829,     0.93829,     0.93828,     0.93828,     0.93827,     0.93781,     0.94344,     0.94365,     0.94385,     0.94406,     0.94426,     0.94446,     0.94467,     0.94487,     0.94508,     0.94528,     0.94548,     0.94569,     0.94589,      0.9461,      0.9463,      0.9465,     0.94671,\n",
       "            0.94691,     0.94712,     0.94732,     0.94752,     0.94773,     0.94793,     0.94814,     0.94834,     0.94854,     0.94875,     0.94895,     0.94916,     0.94936,     0.94936,     0.94936,     0.94935,     0.94935,     0.94934,     0.94933,     0.94933,     0.94932,     0.94932,     0.94931,\n",
       "            0.94931,      0.9493,      0.9493,     0.94929,     0.94929,     0.94928,     0.94927,     0.94927,     0.94926,     0.94926,     0.94925,     0.94925,     0.94924,     0.94924,     0.94923,     0.94923,     0.94922,     0.94921,     0.94921,      0.9492,      0.9492,     0.94919,     0.94919,\n",
       "            0.94918,     0.94918,     0.94917,     0.94917,     0.94916,     0.94915,     0.94915,     0.94914,     0.94914,     0.94913,     0.94913,     0.94912,     0.94912,     0.94911,     0.94911,      0.9491,     0.94909,     0.94909,     0.94908,     0.94908,     0.94907,     0.94907,     0.94906,\n",
       "            0.94906,     0.94905,     0.94904,       0.951,     0.95308,     0.95513,     0.95523,     0.95533,     0.95543,     0.95553,     0.95563,     0.95573,     0.95583,     0.95593,     0.95602,     0.95612,     0.95622,     0.95632,     0.95642,     0.95652,     0.95662,     0.95672,     0.95682,\n",
       "            0.95692,     0.95702,     0.95712,     0.95722,     0.95732,     0.95742,     0.95752,     0.95762,     0.95772,     0.95782,     0.95791,     0.95801,     0.95811,     0.95821,     0.95831,     0.95841,     0.95851,     0.95861,     0.95871,     0.95881,     0.95891,     0.95901,     0.95911,\n",
       "            0.95921,     0.95931,     0.95941,     0.95951,     0.95961,     0.95971,      0.9598,      0.9599,        0.96,      0.9601,      0.9602,      0.9603,      0.9604,      0.9605,      0.9606,      0.9607,      0.9608,      0.9609,       0.961,      0.9611,      0.9612,     0.96129,     0.96127,\n",
       "            0.96126,     0.96124,     0.96122,     0.96121,     0.96119,     0.96117,     0.96116,     0.96114,     0.96112,     0.96111,     0.96109,     0.96107,     0.96106,     0.96104,     0.96102,       0.961,     0.96098,     0.96096,     0.96094,     0.96091,     0.96089,     0.96087,     0.96085,\n",
       "            0.96083,     0.96081,     0.96079,       0.962,     0.96362,     0.96524,     0.96686,     0.96701,      0.9669,     0.96688,     0.96686,     0.96685,     0.96683,     0.96682,     0.96681,     0.96679,     0.96678,     0.96677,     0.96675,     0.96674,     0.96672,     0.96671,      0.9667,\n",
       "            0.96668,     0.96667,       0.967,     0.96741,     0.96783,     0.96824,     0.96866,     0.96908,     0.96949,     0.96991,     0.97032,     0.97074,     0.97115,     0.97157,     0.97199,      0.9724,     0.97282,     0.97315,     0.97313,     0.97311,     0.97309,     0.97307,     0.97305,\n",
       "            0.97303,     0.97301,     0.97299,     0.97297,     0.97295,     0.97292,     0.97289,     0.97286,     0.97283,      0.9728,     0.97278,     0.97277,     0.97276,     0.97275,     0.97274,     0.97272,     0.97271,      0.9727,     0.97269,     0.97268,     0.97267,     0.97266,     0.97264,\n",
       "            0.97263,     0.97262,     0.97261,     0.97257,     0.97251,     0.97244,     0.97238,     0.97233,     0.97227,     0.97222,     0.97218,     0.97214,      0.9721,     0.97206,     0.97178,      0.9714,     0.97129,     0.97203,     0.97443,     0.97684,     0.97824,      0.9782,     0.97815,\n",
       "             0.9781,     0.97799,     0.97788,     0.97795,     0.98044,     0.98293,     0.98721,     0.99247,     0.99245,     0.99243,      0.9923,     0.99228,     0.99225,     0.99218,     0.99215,     0.99271,     0.99432,     0.99594,     0.99755,     0.99916,           1,           1,           1,\n",
       "                  1,           1,           1,           1,           1,           1,           1,           1,           1,           1,           1,           1,           1,           1,           1,           1,           1,           1,           1,           1,           1,           1,           1,\n",
       "                  1,           1,           1,           1,           1,           1,           1,           1,           1,           1,           1,           1,           1,           1,           1,           1,           1,           1,           1,           1,           1,           1,           1,\n",
       "                  1,           1,           1,           1,           1,           1,           1,           1,           1,           1,           1,           1,           1,           1,           1,           1,           1,           1,           1,           1,           1,           1,           1,\n",
       "                  1,           1,           1,           1,           1,           1,           1,           1,           1,           1,           1,           1,           1,           1,           1,           1,           1,           1,           1,           1,           1,           1,           1,\n",
       "                  1,           1,           1,           1,           1,           1,           1,           1,           1,           1,           1,           1,           1,           1,           1,           1,           1,           1,           1,           1,           1,           1,           1,\n",
       "                  1,           1,           1,           1,           1,           1,           1,           1,           1,           1,           1,           1,           1,           1,           1,           1,           1,           1,           1,           1,           1,           1,           1,\n",
       "                  1,           1,           1,           1,           1,           1,           1,           1,           1,           1,           1,           1,           1,           1,           1,           1,           1,           1,           1,           1,           1,           1,           1,\n",
       "                  1,           1,           1,           1,           1,           1,           1,           1,           1,           1,           1,           1,           1,           1,           1,           1,           1,           1,           1,           1,           1,           1,           1,\n",
       "                  1,           1,           1,           1,           1,           1,           1,           1,           1,           1,           1,           1,           1,           1,           1,           1,           1,           1,           1,           1,           1,           1,           1,\n",
       "                  1,           1,           1,           1,           1,           1,           1,           1,           1,           1,           1]]), 'Confidence', 'Precision'], [array([          0,    0.001001,    0.002002,    0.003003,    0.004004,    0.005005,    0.006006,    0.007007,    0.008008,    0.009009,     0.01001,    0.011011,    0.012012,    0.013013,    0.014014,    0.015015,    0.016016,    0.017017,    0.018018,    0.019019,     0.02002,    0.021021,    0.022022,    0.023023,\n",
       "          0.024024,    0.025025,    0.026026,    0.027027,    0.028028,    0.029029,     0.03003,    0.031031,    0.032032,    0.033033,    0.034034,    0.035035,    0.036036,    0.037037,    0.038038,    0.039039,     0.04004,    0.041041,    0.042042,    0.043043,    0.044044,    0.045045,    0.046046,    0.047047,\n",
       "          0.048048,    0.049049,     0.05005,    0.051051,    0.052052,    0.053053,    0.054054,    0.055055,    0.056056,    0.057057,    0.058058,    0.059059,     0.06006,    0.061061,    0.062062,    0.063063,    0.064064,    0.065065,    0.066066,    0.067067,    0.068068,    0.069069,     0.07007,    0.071071,\n",
       "          0.072072,    0.073073,    0.074074,    0.075075,    0.076076,    0.077077,    0.078078,    0.079079,     0.08008,    0.081081,    0.082082,    0.083083,    0.084084,    0.085085,    0.086086,    0.087087,    0.088088,    0.089089,     0.09009,    0.091091,    0.092092,    0.093093,    0.094094,    0.095095,\n",
       "          0.096096,    0.097097,    0.098098,    0.099099,      0.1001,      0.1011,      0.1021,      0.1031,      0.1041,     0.10511,     0.10611,     0.10711,     0.10811,     0.10911,     0.11011,     0.11111,     0.11211,     0.11311,     0.11411,     0.11512,     0.11612,     0.11712,     0.11812,     0.11912,\n",
       "           0.12012,     0.12112,     0.12212,     0.12312,     0.12412,     0.12513,     0.12613,     0.12713,     0.12813,     0.12913,     0.13013,     0.13113,     0.13213,     0.13313,     0.13413,     0.13514,     0.13614,     0.13714,     0.13814,     0.13914,     0.14014,     0.14114,     0.14214,     0.14314,\n",
       "           0.14414,     0.14515,     0.14615,     0.14715,     0.14815,     0.14915,     0.15015,     0.15115,     0.15215,     0.15315,     0.15415,     0.15516,     0.15616,     0.15716,     0.15816,     0.15916,     0.16016,     0.16116,     0.16216,     0.16316,     0.16416,     0.16517,     0.16617,     0.16717,\n",
       "           0.16817,     0.16917,     0.17017,     0.17117,     0.17217,     0.17317,     0.17417,     0.17518,     0.17618,     0.17718,     0.17818,     0.17918,     0.18018,     0.18118,     0.18218,     0.18318,     0.18418,     0.18519,     0.18619,     0.18719,     0.18819,     0.18919,     0.19019,     0.19119,\n",
       "           0.19219,     0.19319,     0.19419,      0.1952,      0.1962,      0.1972,      0.1982,      0.1992,      0.2002,      0.2012,      0.2022,      0.2032,      0.2042,     0.20521,     0.20621,     0.20721,     0.20821,     0.20921,     0.21021,     0.21121,     0.21221,     0.21321,     0.21421,     0.21522,\n",
       "           0.21622,     0.21722,     0.21822,     0.21922,     0.22022,     0.22122,     0.22222,     0.22322,     0.22422,     0.22523,     0.22623,     0.22723,     0.22823,     0.22923,     0.23023,     0.23123,     0.23223,     0.23323,     0.23423,     0.23524,     0.23624,     0.23724,     0.23824,     0.23924,\n",
       "           0.24024,     0.24124,     0.24224,     0.24324,     0.24424,     0.24525,     0.24625,     0.24725,     0.24825,     0.24925,     0.25025,     0.25125,     0.25225,     0.25325,     0.25425,     0.25526,     0.25626,     0.25726,     0.25826,     0.25926,     0.26026,     0.26126,     0.26226,     0.26326,\n",
       "           0.26426,     0.26527,     0.26627,     0.26727,     0.26827,     0.26927,     0.27027,     0.27127,     0.27227,     0.27327,     0.27427,     0.27528,     0.27628,     0.27728,     0.27828,     0.27928,     0.28028,     0.28128,     0.28228,     0.28328,     0.28428,     0.28529,     0.28629,     0.28729,\n",
       "           0.28829,     0.28929,     0.29029,     0.29129,     0.29229,     0.29329,     0.29429,      0.2953,      0.2963,      0.2973,      0.2983,      0.2993,      0.3003,      0.3013,      0.3023,      0.3033,      0.3043,     0.30531,     0.30631,     0.30731,     0.30831,     0.30931,     0.31031,     0.31131,\n",
       "           0.31231,     0.31331,     0.31431,     0.31532,     0.31632,     0.31732,     0.31832,     0.31932,     0.32032,     0.32132,     0.32232,     0.32332,     0.32432,     0.32533,     0.32633,     0.32733,     0.32833,     0.32933,     0.33033,     0.33133,     0.33233,     0.33333,     0.33433,     0.33534,\n",
       "           0.33634,     0.33734,     0.33834,     0.33934,     0.34034,     0.34134,     0.34234,     0.34334,     0.34434,     0.34535,     0.34635,     0.34735,     0.34835,     0.34935,     0.35035,     0.35135,     0.35235,     0.35335,     0.35435,     0.35536,     0.35636,     0.35736,     0.35836,     0.35936,\n",
       "           0.36036,     0.36136,     0.36236,     0.36336,     0.36436,     0.36537,     0.36637,     0.36737,     0.36837,     0.36937,     0.37037,     0.37137,     0.37237,     0.37337,     0.37437,     0.37538,     0.37638,     0.37738,     0.37838,     0.37938,     0.38038,     0.38138,     0.38238,     0.38338,\n",
       "           0.38438,     0.38539,     0.38639,     0.38739,     0.38839,     0.38939,     0.39039,     0.39139,     0.39239,     0.39339,     0.39439,      0.3954,      0.3964,      0.3974,      0.3984,      0.3994,      0.4004,      0.4014,      0.4024,      0.4034,      0.4044,     0.40541,     0.40641,     0.40741,\n",
       "           0.40841,     0.40941,     0.41041,     0.41141,     0.41241,     0.41341,     0.41441,     0.41542,     0.41642,     0.41742,     0.41842,     0.41942,     0.42042,     0.42142,     0.42242,     0.42342,     0.42442,     0.42543,     0.42643,     0.42743,     0.42843,     0.42943,     0.43043,     0.43143,\n",
       "           0.43243,     0.43343,     0.43443,     0.43544,     0.43644,     0.43744,     0.43844,     0.43944,     0.44044,     0.44144,     0.44244,     0.44344,     0.44444,     0.44545,     0.44645,     0.44745,     0.44845,     0.44945,     0.45045,     0.45145,     0.45245,     0.45345,     0.45445,     0.45546,\n",
       "           0.45646,     0.45746,     0.45846,     0.45946,     0.46046,     0.46146,     0.46246,     0.46346,     0.46446,     0.46547,     0.46647,     0.46747,     0.46847,     0.46947,     0.47047,     0.47147,     0.47247,     0.47347,     0.47447,     0.47548,     0.47648,     0.47748,     0.47848,     0.47948,\n",
       "           0.48048,     0.48148,     0.48248,     0.48348,     0.48448,     0.48549,     0.48649,     0.48749,     0.48849,     0.48949,     0.49049,     0.49149,     0.49249,     0.49349,     0.49449,      0.4955,      0.4965,      0.4975,      0.4985,      0.4995,      0.5005,      0.5015,      0.5025,      0.5035,\n",
       "            0.5045,     0.50551,     0.50651,     0.50751,     0.50851,     0.50951,     0.51051,     0.51151,     0.51251,     0.51351,     0.51451,     0.51552,     0.51652,     0.51752,     0.51852,     0.51952,     0.52052,     0.52152,     0.52252,     0.52352,     0.52452,     0.52553,     0.52653,     0.52753,\n",
       "           0.52853,     0.52953,     0.53053,     0.53153,     0.53253,     0.53353,     0.53453,     0.53554,     0.53654,     0.53754,     0.53854,     0.53954,     0.54054,     0.54154,     0.54254,     0.54354,     0.54454,     0.54555,     0.54655,     0.54755,     0.54855,     0.54955,     0.55055,     0.55155,\n",
       "           0.55255,     0.55355,     0.55455,     0.55556,     0.55656,     0.55756,     0.55856,     0.55956,     0.56056,     0.56156,     0.56256,     0.56356,     0.56456,     0.56557,     0.56657,     0.56757,     0.56857,     0.56957,     0.57057,     0.57157,     0.57257,     0.57357,     0.57457,     0.57558,\n",
       "           0.57658,     0.57758,     0.57858,     0.57958,     0.58058,     0.58158,     0.58258,     0.58358,     0.58458,     0.58559,     0.58659,     0.58759,     0.58859,     0.58959,     0.59059,     0.59159,     0.59259,     0.59359,     0.59459,      0.5956,      0.5966,      0.5976,      0.5986,      0.5996,\n",
       "            0.6006,      0.6016,      0.6026,      0.6036,      0.6046,     0.60561,     0.60661,     0.60761,     0.60861,     0.60961,     0.61061,     0.61161,     0.61261,     0.61361,     0.61461,     0.61562,     0.61662,     0.61762,     0.61862,     0.61962,     0.62062,     0.62162,     0.62262,     0.62362,\n",
       "           0.62462,     0.62563,     0.62663,     0.62763,     0.62863,     0.62963,     0.63063,     0.63163,     0.63263,     0.63363,     0.63463,     0.63564,     0.63664,     0.63764,     0.63864,     0.63964,     0.64064,     0.64164,     0.64264,     0.64364,     0.64464,     0.64565,     0.64665,     0.64765,\n",
       "           0.64865,     0.64965,     0.65065,     0.65165,     0.65265,     0.65365,     0.65465,     0.65566,     0.65666,     0.65766,     0.65866,     0.65966,     0.66066,     0.66166,     0.66266,     0.66366,     0.66466,     0.66567,     0.66667,     0.66767,     0.66867,     0.66967,     0.67067,     0.67167,\n",
       "           0.67267,     0.67367,     0.67467,     0.67568,     0.67668,     0.67768,     0.67868,     0.67968,     0.68068,     0.68168,     0.68268,     0.68368,     0.68468,     0.68569,     0.68669,     0.68769,     0.68869,     0.68969,     0.69069,     0.69169,     0.69269,     0.69369,     0.69469,      0.6957,\n",
       "            0.6967,      0.6977,      0.6987,      0.6997,      0.7007,      0.7017,      0.7027,      0.7037,      0.7047,     0.70571,     0.70671,     0.70771,     0.70871,     0.70971,     0.71071,     0.71171,     0.71271,     0.71371,     0.71471,     0.71572,     0.71672,     0.71772,     0.71872,     0.71972,\n",
       "           0.72072,     0.72172,     0.72272,     0.72372,     0.72472,     0.72573,     0.72673,     0.72773,     0.72873,     0.72973,     0.73073,     0.73173,     0.73273,     0.73373,     0.73473,     0.73574,     0.73674,     0.73774,     0.73874,     0.73974,     0.74074,     0.74174,     0.74274,     0.74374,\n",
       "           0.74474,     0.74575,     0.74675,     0.74775,     0.74875,     0.74975,     0.75075,     0.75175,     0.75275,     0.75375,     0.75475,     0.75576,     0.75676,     0.75776,     0.75876,     0.75976,     0.76076,     0.76176,     0.76276,     0.76376,     0.76476,     0.76577,     0.76677,     0.76777,\n",
       "           0.76877,     0.76977,     0.77077,     0.77177,     0.77277,     0.77377,     0.77477,     0.77578,     0.77678,     0.77778,     0.77878,     0.77978,     0.78078,     0.78178,     0.78278,     0.78378,     0.78478,     0.78579,     0.78679,     0.78779,     0.78879,     0.78979,     0.79079,     0.79179,\n",
       "           0.79279,     0.79379,     0.79479,      0.7958,      0.7968,      0.7978,      0.7988,      0.7998,      0.8008,      0.8018,      0.8028,      0.8038,      0.8048,     0.80581,     0.80681,     0.80781,     0.80881,     0.80981,     0.81081,     0.81181,     0.81281,     0.81381,     0.81481,     0.81582,\n",
       "           0.81682,     0.81782,     0.81882,     0.81982,     0.82082,     0.82182,     0.82282,     0.82382,     0.82482,     0.82583,     0.82683,     0.82783,     0.82883,     0.82983,     0.83083,     0.83183,     0.83283,     0.83383,     0.83483,     0.83584,     0.83684,     0.83784,     0.83884,     0.83984,\n",
       "           0.84084,     0.84184,     0.84284,     0.84384,     0.84484,     0.84585,     0.84685,     0.84785,     0.84885,     0.84985,     0.85085,     0.85185,     0.85285,     0.85385,     0.85485,     0.85586,     0.85686,     0.85786,     0.85886,     0.85986,     0.86086,     0.86186,     0.86286,     0.86386,\n",
       "           0.86486,     0.86587,     0.86687,     0.86787,     0.86887,     0.86987,     0.87087,     0.87187,     0.87287,     0.87387,     0.87487,     0.87588,     0.87688,     0.87788,     0.87888,     0.87988,     0.88088,     0.88188,     0.88288,     0.88388,     0.88488,     0.88589,     0.88689,     0.88789,\n",
       "           0.88889,     0.88989,     0.89089,     0.89189,     0.89289,     0.89389,     0.89489,      0.8959,      0.8969,      0.8979,      0.8989,      0.8999,      0.9009,      0.9019,      0.9029,      0.9039,      0.9049,     0.90591,     0.90691,     0.90791,     0.90891,     0.90991,     0.91091,     0.91191,\n",
       "           0.91291,     0.91391,     0.91491,     0.91592,     0.91692,     0.91792,     0.91892,     0.91992,     0.92092,     0.92192,     0.92292,     0.92392,     0.92492,     0.92593,     0.92693,     0.92793,     0.92893,     0.92993,     0.93093,     0.93193,     0.93293,     0.93393,     0.93493,     0.93594,\n",
       "           0.93694,     0.93794,     0.93894,     0.93994,     0.94094,     0.94194,     0.94294,     0.94394,     0.94494,     0.94595,     0.94695,     0.94795,     0.94895,     0.94995,     0.95095,     0.95195,     0.95295,     0.95395,     0.95495,     0.95596,     0.95696,     0.95796,     0.95896,     0.95996,\n",
       "           0.96096,     0.96196,     0.96296,     0.96396,     0.96496,     0.96597,     0.96697,     0.96797,     0.96897,     0.96997,     0.97097,     0.97197,     0.97297,     0.97397,     0.97497,     0.97598,     0.97698,     0.97798,     0.97898,     0.97998,     0.98098,     0.98198,     0.98298,     0.98398,\n",
       "           0.98498,     0.98599,     0.98699,     0.98799,     0.98899,     0.98999,     0.99099,     0.99199,     0.99299,     0.99399,     0.99499,       0.996,       0.997,       0.998,       0.999,           1]), array([[          1,           1,           1,           1,           1,           1,           1,           1,           1,           1,           1,           1,           1,           1,           1,           1,           1,           1,           1,           1,           1,           1,           1,\n",
       "                  1,           1,           1,           1,           1,           1,           1,           1,           1,           1,           1,           1,           1,           1,           1,           1,           1,           1,           1,           1,           1,           1,           1,\n",
       "                  1,           1,           1,           1,           1,           1,           1,           1,           1,           1,           1,           1,           1,           1,     0.99959,     0.99896,     0.99832,     0.99769,     0.99705,     0.99642,     0.99578,     0.99515,     0.99451,\n",
       "            0.99388,     0.99359,     0.99359,     0.99359,     0.99359,     0.99359,     0.99359,     0.99359,     0.99359,     0.99359,     0.99359,     0.99359,     0.99359,     0.99359,     0.99359,     0.99359,     0.99359,     0.99359,     0.99359,     0.99359,     0.99359,     0.99359,     0.99359,\n",
       "            0.99359,     0.99359,     0.99359,     0.99359,     0.99359,     0.99359,     0.99359,     0.99359,     0.99359,     0.99359,     0.99359,     0.99359,     0.99359,     0.99359,     0.99359,     0.99359,     0.99359,     0.99359,     0.99359,     0.99359,     0.99359,     0.99359,     0.99359,\n",
       "            0.99359,     0.99359,     0.99359,     0.99359,     0.99359,     0.99359,     0.99359,     0.99359,     0.99359,     0.99359,     0.99359,     0.99359,     0.99359,     0.99359,     0.99359,     0.99359,     0.99359,     0.99359,     0.99359,     0.99359,     0.99359,     0.99358,      0.9934,\n",
       "            0.99322,     0.99303,     0.99285,     0.99267,     0.99248,      0.9923,     0.99211,     0.99193,     0.99175,     0.99156,     0.99138,      0.9912,     0.99101,     0.99083,     0.99064,     0.99046,     0.99028,     0.99009,     0.98991,     0.98972,     0.98954,     0.98936,     0.98917,\n",
       "            0.98899,     0.98881,     0.98862,     0.98844,     0.98825,     0.98807,     0.98789,      0.9877,     0.98752,     0.98734,     0.98718,     0.98718,     0.98718,     0.98718,     0.98718,     0.98718,     0.98718,     0.98718,     0.98718,     0.98718,     0.98718,     0.98718,     0.98718,\n",
       "            0.98718,     0.98718,     0.98718,     0.98718,     0.98718,     0.98718,     0.98718,     0.98718,     0.98718,     0.98718,     0.98718,     0.98718,     0.98718,     0.98718,     0.98718,     0.98718,     0.98718,     0.98718,     0.98718,     0.98718,     0.98718,     0.98718,     0.98718,\n",
       "            0.98718,     0.98718,     0.98718,     0.98718,     0.98718,     0.98718,     0.98718,     0.98718,     0.98718,     0.98718,     0.98718,     0.98718,     0.98718,     0.98718,     0.98718,     0.98718,     0.98718,     0.98718,     0.98718,     0.98718,     0.98718,     0.98718,     0.98718,\n",
       "            0.98718,     0.98718,     0.98718,     0.98718,     0.98718,     0.98718,     0.98718,     0.98718,     0.98718,     0.98718,     0.98718,     0.98718,     0.98718,     0.98718,     0.98718,     0.98718,     0.98718,     0.98718,     0.98718,     0.98718,     0.98718,     0.98718,     0.98718,\n",
       "            0.98718,     0.98718,     0.98718,     0.98718,     0.98718,     0.98718,     0.98718,     0.98718,     0.98718,     0.98718,     0.98718,     0.98718,     0.98718,     0.98718,     0.98718,     0.98718,     0.98718,     0.98718,     0.98718,     0.98718,     0.98718,     0.98718,     0.98718,\n",
       "            0.98718,     0.98718,     0.98718,     0.98718,     0.98718,     0.98718,     0.98718,     0.98718,     0.98718,     0.98718,     0.98718,     0.98718,     0.98718,     0.98718,     0.98718,     0.98718,     0.98718,     0.98718,     0.98718,     0.98718,     0.98718,     0.98718,     0.98718,\n",
       "            0.98718,     0.98718,     0.98718,     0.98718,     0.98718,     0.98718,     0.98718,     0.98718,     0.98718,     0.98718,     0.98718,     0.98718,     0.98718,     0.98718,     0.98718,     0.98718,     0.98718,     0.98718,     0.98718,     0.98718,     0.98718,     0.98718,     0.98718,\n",
       "            0.98718,     0.98718,     0.98718,     0.98718,     0.98718,     0.98718,     0.98718,     0.98718,     0.98718,     0.98718,     0.98718,     0.98718,     0.98718,     0.98718,     0.98718,     0.98718,     0.98718,     0.98718,     0.98718,     0.98718,     0.98718,     0.98716,     0.98687,\n",
       "            0.98658,      0.9863,     0.98601,     0.98573,     0.98544,     0.98516,     0.98487,     0.98459,      0.9843,     0.98401,     0.98373,     0.98344,     0.98316,     0.98287,     0.98259,      0.9823,     0.98201,     0.98173,     0.98144,     0.98116,     0.98087,     0.98077,     0.98077,\n",
       "            0.98077,     0.98077,     0.98077,     0.98077,     0.98077,     0.98077,     0.98077,     0.98077,     0.98077,     0.98077,     0.98077,     0.98077,     0.98077,     0.98077,     0.98077,     0.98077,     0.98077,     0.98077,     0.98077,     0.98077,     0.98077,     0.98077,     0.98077,\n",
       "            0.98077,     0.98077,     0.98077,     0.98077,     0.98077,     0.98077,     0.98074,     0.98067,      0.9806,     0.98053,     0.98046,     0.98039,     0.98032,     0.98025,     0.98018,     0.98011,     0.98004,     0.97997,      0.9799,     0.97983,     0.97976,     0.97969,     0.97962,\n",
       "            0.97954,     0.97947,      0.9794,     0.97933,     0.97926,     0.97919,     0.97912,     0.97905,     0.97898,     0.97891,     0.97884,     0.97877,      0.9787,     0.97863,     0.97856,     0.97849,     0.97842,     0.97835,     0.97828,     0.97821,     0.97814,     0.97807,       0.978,\n",
       "            0.97793,     0.97786,     0.97779,     0.97772,     0.97765,     0.97758,     0.97751,     0.97744,     0.97737,      0.9773,     0.97723,     0.97716,     0.97709,     0.97701,     0.97694,     0.97687,      0.9768,     0.97673,     0.97666,     0.97659,     0.97652,     0.97645,     0.97638,\n",
       "            0.97631,     0.97624,     0.97617,      0.9761,     0.97603,     0.97596,     0.97589,     0.97582,     0.97575,     0.97568,     0.97561,     0.97554,     0.97547,      0.9754,     0.97533,     0.97526,     0.97519,     0.97512,     0.97505,     0.97498,     0.97491,     0.97484,     0.97477,\n",
       "             0.9747,     0.97463,     0.97456,     0.97448,     0.97441,     0.96659,     0.96154,     0.96154,     0.96154,     0.96154,     0.96154,     0.96154,     0.96154,     0.96154,     0.96154,     0.96154,     0.96154,     0.96154,     0.96154,     0.96154,     0.96154,     0.96154,     0.96154,\n",
       "            0.96154,     0.96154,     0.96154,     0.96154,     0.96154,     0.96154,     0.96154,     0.96154,     0.96154,     0.96154,     0.96154,     0.96154,     0.96154,     0.96143,     0.96133,     0.96122,     0.96111,       0.961,     0.96089,     0.96078,     0.96067,     0.96056,     0.96046,\n",
       "            0.96035,     0.96024,     0.96013,     0.96002,     0.95991,      0.9598,      0.9597,     0.95959,     0.95948,     0.95937,     0.95926,     0.95915,     0.95904,     0.95894,     0.95883,     0.95872,     0.95861,      0.9585,     0.95839,     0.95828,     0.95818,     0.95807,     0.95796,\n",
       "            0.95785,     0.95774,     0.95763,     0.95752,     0.95742,     0.95731,      0.9572,     0.95709,     0.95698,     0.95687,     0.95676,     0.95666,     0.95655,     0.95644,     0.95633,     0.95622,     0.95611,       0.956,     0.95589,     0.95579,     0.95568,     0.95557,     0.95546,\n",
       "            0.95535,     0.95524,     0.95513,     0.95513,     0.95513,     0.95513,     0.95513,     0.95513,     0.95513,     0.95513,     0.95513,     0.95513,     0.95513,     0.95513,     0.95513,     0.95513,     0.95513,     0.95513,     0.95513,     0.95513,     0.95513,     0.95513,     0.95513,\n",
       "            0.95513,     0.95513,     0.95513,     0.95513,     0.95513,     0.95513,     0.95513,     0.95513,     0.95513,     0.95513,     0.95513,     0.95513,     0.95513,     0.95513,     0.95513,     0.95513,     0.95513,     0.95513,     0.95513,     0.95513,     0.95513,     0.95513,     0.95513,\n",
       "            0.95513,     0.95513,     0.95513,     0.95513,     0.95513,     0.95513,     0.95513,     0.95513,     0.95513,     0.95513,     0.95513,     0.95513,     0.95513,     0.95513,     0.95513,     0.95513,     0.95513,     0.95513,     0.95513,     0.95513,     0.95513,      0.9551,     0.95468,\n",
       "            0.95425,     0.95383,     0.95341,     0.95298,     0.95256,     0.95213,     0.95171,     0.95129,     0.95086,     0.95044,     0.95001,     0.94959,     0.94917,     0.94874,     0.94822,      0.9477,     0.94717,     0.94665,     0.94612,     0.94559,     0.94507,     0.94454,     0.94402,\n",
       "            0.94349,     0.94297,     0.94244,     0.94231,     0.94231,     0.94231,     0.94231,     0.93953,     0.93624,     0.93554,     0.93514,     0.93474,     0.93435,     0.93395,     0.93355,     0.93315,     0.93275,     0.93236,     0.93196,     0.93156,     0.93116,     0.93076,     0.93036,\n",
       "            0.92997,     0.92957,     0.92949,     0.92949,     0.92949,     0.92949,     0.92949,     0.92949,     0.92949,     0.92949,     0.92949,     0.92949,     0.92949,     0.92949,     0.92949,     0.92949,     0.92949,     0.92936,     0.92867,     0.92797,     0.92728,     0.92659,      0.9259,\n",
       "            0.92521,     0.92452,     0.92382,     0.92313,     0.92215,     0.92114,     0.92013,     0.91911,      0.9181,     0.91709,     0.91644,     0.91604,     0.91564,     0.91524,     0.91484,     0.91445,     0.91405,     0.91365,     0.91325,     0.91285,     0.91245,     0.91206,     0.91166,\n",
       "            0.91126,     0.91086,     0.91046,      0.9092,     0.90701,     0.90482,      0.9028,     0.90093,     0.89905,     0.89725,     0.89594,     0.89462,     0.89331,       0.892,     0.88289,     0.87085,     0.86757,     0.86538,     0.86538,     0.86538,     0.86462,     0.86274,     0.86086,\n",
       "            0.85899,     0.85462,     0.85024,     0.84615,     0.84615,     0.84615,     0.84615,     0.84472,     0.84253,     0.84034,      0.8263,     0.82367,     0.82104,     0.81308,     0.80979,     0.80769,     0.80769,     0.80769,     0.80769,     0.80769,     0.79917,     0.78821,     0.77856,\n",
       "            0.76558,      0.7526,     0.72924,      0.7216,     0.70295,     0.68785,     0.65291,     0.64853,     0.63116,     0.62311,     0.60795,     0.60466,     0.60162,     0.59899,     0.59636,     0.58048,      0.5709,     0.55344,     0.54462,     0.53613,     0.51237,     0.49959,     0.49521,\n",
       "            0.47663,     0.45867,     0.44747,     0.44137,     0.43699,     0.41814,     0.40686,     0.39538,      0.3824,      0.3638,     0.35942,     0.34666,     0.32929,      0.3175,     0.31093,     0.28624,     0.28176,     0.24955,     0.23677,     0.23239,     0.21381,     0.19442,     0.17651,\n",
       "            0.16525,     0.15868,     0.15211,     0.14617,     0.14179,     0.12919,     0.11621,     0.10964,    0.096661,    0.092111,    0.088234,    0.084949,    0.079993,    0.067013,    0.062272,    0.058987,    0.047301,    0.043215,    0.040587,    0.037833,    0.034547,    0.030473,    0.018361,\n",
       "           0.015076,    0.011791,   0.0085053,           0,           0,           0,           0,           0,           0,           0,           0,           0,           0,           0,           0,           0,           0,           0,           0,           0,           0,           0,           0,\n",
       "                  0,           0,           0,           0,           0,           0,           0,           0,           0,           0,           0,           0,           0,           0,           0,           0,           0,           0,           0,           0,           0,           0,           0,\n",
       "                  0,           0,           0,           0,           0,           0,           0,           0,           0,           0,           0,           0,           0,           0,           0,           0,           0,           0,           0,           0,           0,           0,           0,\n",
       "                  0,           0,           0,           0,           0,           0,           0,           0,           0,           0,           0,           0,           0,           0,           0,           0,           0,           0,           0,           0,           0,           0,           0,\n",
       "                  0,           0,           0,           0,           0,           0,           0,           0,           0,           0,           0,           0,           0,           0,           0,           0,           0,           0,           0,           0,           0,           0,           0,\n",
       "                  0,           0,           0,           0,           0,           0,           0,           0,           0,           0,           0,           0,           0,           0,           0,           0,           0,           0,           0,           0,           0,           0,           0,\n",
       "                  0,           0,           0,           0,           0,           0,           0,           0,           0,           0,           0]]), 'Confidence', 'Recall']]\n",
       "fitness: np.float64(0.6770459520373744)\n",
       "keys: ['metrics/precision(B)', 'metrics/recall(B)', 'metrics/mAP50(B)', 'metrics/mAP50-95(B)']\n",
       "maps: array([    0.64237,     0.64237])\n",
       "names: {0: 'Weapon', 1: 'Weapon-zdcK'}\n",
       "nt_per_class: array([156,   0])\n",
       "nt_per_image: array([156,   0])\n",
       "results_dict: {'metrics/precision(B)': np.float64(0.9320289661122874), 'metrics/recall(B)': np.float64(0.9871794871794872), 'metrics/mAP50(B)': np.float64(0.9891568498923298), 'metrics/mAP50-95(B)': np.float64(0.6423669633868238), 'fitness': np.float64(0.6770459520373744)}\n",
       "save_dir: WindowsPath('runs/detect/train7')\n",
       "speed: {'preprocess': 0.9239627027135292, 'inference': 2.677024864966075, 'loss': 0.00027945946360862737, 'postprocess': 3.0858951350957207}\n",
       "stats: {'tp': [], 'conf': [], 'pred_cls': [], 'target_cls': [], 'target_img': []}\n",
       "task: 'detect'"
      ]
     },
     "execution_count": 3,
     "metadata": {},
     "output_type": "execute_result"
    }
   ],
   "source": [
    "model.train(data='C:/NTU_NOW_Assignments/COMP40311_Major_Project/Implementation/Concealed_Weapon_Detection_Dataset/data.yaml', epochs=10, imgsz=640, batch=16)"
   ]
  },
  {
   "cell_type": "code",
   "execution_count": 4,
   "id": "65d2f596",
   "metadata": {},
   "outputs": [],
   "source": [
    "model = YOLO('C:/NTU_NOW_Assignments/COMP40311_Major_Project/Implementation/runs/detect/train7/weights/best.pt')"
   ]
  },
  {
   "cell_type": "code",
   "execution_count": 11,
   "id": "76dc0807",
   "metadata": {},
   "outputs": [
    {
     "name": "stdout",
     "output_type": "stream",
     "text": [
      "\n",
      "image 1/1 c:\\NTU_NOW_Assignments\\COMP40311_Major_Project\\Implementation\\Concealed_Weapon_Detection_Dataset\\valid\\images\\5_png.rf.fc6ba3ae61d066e74970075a4f25009b.jpg: 640x640 (no detections), 77.0ms\n",
      "Speed: 7.5ms preprocess, 77.0ms inference, 1.2ms postprocess per image at shape (1, 3, 640, 640)\n"
     ]
    }
   ],
   "source": [
    "results = model('Concealed_Weapon_Detection_Dataset/valid/images/5_png.rf.fc6ba3ae61d066e74970075a4f25009b.jpg', conf=0.1)"
   ]
  },
  {
   "cell_type": "code",
   "execution_count": null,
   "id": "0a7691a9",
   "metadata": {},
   "outputs": [],
   "source": [
    "results[0].show()"
   ]
  }
 ],
 "metadata": {
  "kernelspec": {
   "display_name": "Python 3",
   "language": "python",
   "name": "python3"
  },
  "language_info": {
   "codemirror_mode": {
    "name": "ipython",
    "version": 3
   },
   "file_extension": ".py",
   "mimetype": "text/x-python",
   "name": "python",
   "nbconvert_exporter": "python",
   "pygments_lexer": "ipython3",
   "version": "3.12.4"
  }
 },
 "nbformat": 4,
 "nbformat_minor": 5
}
